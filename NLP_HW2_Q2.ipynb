{
  "nbformat": 4,
  "nbformat_minor": 0,
  "metadata": {
    "colab": {
      "name": "NLP_HW2_Q2.ipynb",
      "provenance": [],
      "authorship_tag": "ABX9TyOqMQwTXG3htqlxks/iHc8T",
      "include_colab_link": true
    },
    "kernelspec": {
      "name": "python3",
      "display_name": "Python 3"
    },
    "language_info": {
      "name": "python"
    }
  },
  "cells": [
    {
      "cell_type": "markdown",
      "metadata": {
        "id": "view-in-github",
        "colab_type": "text"
      },
      "source": [
        "<a href=\"https://colab.research.google.com/github/AUT-Student/NLP-HW2/blob/main/NLP_HW2_Q2.ipynb\" target=\"_parent\"><img src=\"https://colab.research.google.com/assets/colab-badge.svg\" alt=\"Open In Colab\"/></a>"
      ]
    },
    {
      "cell_type": "markdown",
      "source": [
        "# Libraries"
      ],
      "metadata": {
        "id": "Vs2_-yJhgbwd"
      }
    },
    {
      "cell_type": "code",
      "execution_count": 2,
      "metadata": {
        "id": "eHo6mTl5gWxJ"
      },
      "outputs": [],
      "source": [
        "import pandas as pd\n",
        "import numpy as np\n",
        "import tensorflow as tf\n",
        "from tensorflow import keras"
      ]
    },
    {
      "cell_type": "markdown",
      "source": [
        "# Dataset"
      ],
      "metadata": {
        "id": "HUG_NjqlgecV"
      }
    },
    {
      "cell_type": "code",
      "source": [
        "!gdown 1Px1lQhMgkdeFigxwmqvk1ojJPZpq40u5\n",
        "!gdown 1WHbpY1Ydqq7yqtQ2YFavR78zsD7nDwbg\n",
        "!gdown 1pMJQk75R3898sUzFKUMQTPPE_QlllvAY\n",
        "!gdown 1NMesvM67oiJ6-PpSbtErFanj0JMl_Z50"
      ],
      "metadata": {
        "colab": {
          "base_uri": "https://localhost:8080/"
        },
        "id": "m8Dy1Twogfcc",
        "outputId": "e95206ce-95d9-43df-af75-37ada1c5f1c3"
      },
      "execution_count": 4,
      "outputs": [
        {
          "output_type": "stream",
          "name": "stdout",
          "text": [
            "Downloading...\n",
            "From: https://drive.google.com/uc?id=1Px1lQhMgkdeFigxwmqvk1ojJPZpq40u5\n",
            "To: /content/UPC_2016_train.txt\n",
            "100% 25.4M/25.4M [00:00<00:00, 177MB/s]\n",
            "Downloading...\n",
            "From: https://drive.google.com/uc?id=1WHbpY1Ydqq7yqtQ2YFavR78zsD7nDwbg\n",
            "To: /content/UPC_2016_val.txt\n",
            "100% 5.47M/5.47M [00:00<00:00, 188MB/s]\n",
            "Downloading...\n",
            "From: https://drive.google.com/uc?id=1pMJQk75R3898sUzFKUMQTPPE_QlllvAY\n",
            "To: /content/UPC_2016_test.txt\n",
            "100% 5.48M/5.48M [00:00<00:00, 218MB/s]\n",
            "Downloading...\n",
            "From: https://drive.google.com/uc?id=1NMesvM67oiJ6-PpSbtErFanj0JMl_Z50\n",
            "To: /content/vectors.zip\n",
            "100% 48.2M/48.2M [00:00<00:00, 73.5MB/s]\n"
          ]
        }
      ]
    },
    {
      "cell_type": "code",
      "source": [
        "!unzip /content/vectors.zip"
      ],
      "metadata": {
        "colab": {
          "base_uri": "https://localhost:8080/"
        },
        "id": "LRS_p2k5hROb",
        "outputId": "23282785-f0ce-4527-9e22-2b171ea53138"
      },
      "execution_count": 7,
      "outputs": [
        {
          "output_type": "stream",
          "name": "stdout",
          "text": [
            "Archive:  /content/vectors.zip\n",
            "  inflating: vectors.txt             \n"
          ]
        }
      ]
    }
  ]
}