{
  "nbformat": 4,
  "nbformat_minor": 0,
  "metadata": {
    "colab": {
      "name": "NLP_HW2_Q2.ipynb",
      "provenance": [],
      "collapsed_sections": [],
      "toc_visible": true,
      "authorship_tag": "ABX9TyM4f9sfN3hkhN5Tu2+zn0LW",
      "include_colab_link": true
    },
    "kernelspec": {
      "name": "python3",
      "display_name": "Python 3"
    },
    "language_info": {
      "name": "python"
    }
  },
  "cells": [
    {
      "cell_type": "markdown",
      "metadata": {
        "id": "view-in-github",
        "colab_type": "text"
      },
      "source": [
        "<a href=\"https://colab.research.google.com/github/AUT-Student/NLP-HW2/blob/main/NLP_HW2_Q2.ipynb\" target=\"_parent\"><img src=\"https://colab.research.google.com/assets/colab-badge.svg\" alt=\"Open In Colab\"/></a>"
      ]
    },
    {
      "cell_type": "markdown",
      "source": [
        "# Libraries"
      ],
      "metadata": {
        "id": "Vs2_-yJhgbwd"
      }
    },
    {
      "cell_type": "code",
      "execution_count": 71,
      "metadata": {
        "id": "eHo6mTl5gWxJ"
      },
      "outputs": [],
      "source": [
        "import pandas as pd\n",
        "import numpy as np\n",
        "import math\n",
        "import matplotlib.pyplot as plt\n",
        "from sklearn.metrics import precision_recall_fscore_support, confusion_matrix \n",
        "import seaborn as sn\n",
        "\n",
        "import tensorflow as tf\n",
        "from tensorflow import keras\n",
        "from keras.preprocessing.sequence import pad_sequences\n",
        "from keras.layers import Input, Dense, LSTM, Bidirectional, TimeDistributed\n",
        "from keras.models import Sequential\n",
        "from keras.callbacks import EarlyStopping\n",
        "from keras import backend"
      ]
    },
    {
      "cell_type": "markdown",
      "source": [
        "# Dataset"
      ],
      "metadata": {
        "id": "HUG_NjqlgecV"
      }
    },
    {
      "cell_type": "code",
      "source": [
        "!gdown 1Px1lQhMgkdeFigxwmqvk1ojJPZpq40u5\n",
        "!gdown 1WHbpY1Ydqq7yqtQ2YFavR78zsD7nDwbg\n",
        "!gdown 1pMJQk75R3898sUzFKUMQTPPE_QlllvAY\n",
        "!gdown 1NMesvM67oiJ6-PpSbtErFanj0JMl_Z50"
      ],
      "metadata": {
        "colab": {
          "base_uri": "https://localhost:8080/"
        },
        "id": "m8Dy1Twogfcc",
        "outputId": "a2997f28-0155-4e97-d90e-93c526b64931"
      },
      "execution_count": 2,
      "outputs": [
        {
          "output_type": "stream",
          "name": "stdout",
          "text": [
            "Downloading...\n",
            "From: https://drive.google.com/uc?id=1Px1lQhMgkdeFigxwmqvk1ojJPZpq40u5\n",
            "To: /content/UPC_2016_train.txt\n",
            "100% 25.4M/25.4M [00:00<00:00, 100MB/s]\n",
            "Downloading...\n",
            "From: https://drive.google.com/uc?id=1WHbpY1Ydqq7yqtQ2YFavR78zsD7nDwbg\n",
            "To: /content/UPC_2016_val.txt\n",
            "100% 5.47M/5.47M [00:00<00:00, 45.9MB/s]\n",
            "Downloading...\n",
            "From: https://drive.google.com/uc?id=1pMJQk75R3898sUzFKUMQTPPE_QlllvAY\n",
            "To: /content/UPC_2016_test.txt\n",
            "100% 5.48M/5.48M [00:00<00:00, 78.4MB/s]\n",
            "Downloading...\n",
            "From: https://drive.google.com/uc?id=1NMesvM67oiJ6-PpSbtErFanj0JMl_Z50\n",
            "To: /content/vectors.zip\n",
            "100% 48.2M/48.2M [00:00<00:00, 75.0MB/s]\n"
          ]
        }
      ]
    },
    {
      "cell_type": "code",
      "source": [
        "def read_dataset(filepath):\n",
        "  file = open(filepath, \"r\")\n",
        "\n",
        "  dataset = [[]]\n",
        "\n",
        "  item_counter = 0\n",
        "  end_line = False\n",
        "  for line in file.readlines():\n",
        "    line_splitted = line.split()\n",
        "    if len(line_splitted) == 2:  \n",
        "      token, tag = line_splitted\n",
        "      \n",
        "      dataset[-1].append((token, tag))\n",
        "    else:\n",
        "      dataset.append([])\n",
        "      item_counter += 1\n",
        "\n",
        "  return dataset[:-1]"
      ],
      "metadata": {
        "id": "xMzhvV52pV21"
      },
      "execution_count": 3,
      "outputs": []
    },
    {
      "cell_type": "code",
      "source": [
        "train_dataset = read_dataset(\"/content/UPC_2016_train.txt\")\n",
        "valid_dataset = read_dataset(\"/content/UPC_2016_val.txt\")\n",
        "test_dataset = read_dataset(\"/content/UPC_2016_test.txt\")"
      ],
      "metadata": {
        "id": "u-yV0N7SqKj6"
      },
      "execution_count": 4,
      "outputs": []
    },
    {
      "cell_type": "code",
      "source": [
        "!unzip /content/vectors.zip"
      ],
      "metadata": {
        "colab": {
          "base_uri": "https://localhost:8080/"
        },
        "id": "LRS_p2k5hROb",
        "outputId": "00711e14-6d82-453c-97bc-b4ce19b359f6"
      },
      "execution_count": 5,
      "outputs": [
        {
          "output_type": "stream",
          "name": "stdout",
          "text": [
            "Archive:  /content/vectors.zip\n",
            "replace vectors.txt? [y]es, [n]o, [A]ll, [N]one, [r]ename: y\n",
            "  inflating: vectors.txt             \n"
          ]
        }
      ]
    },
    {
      "cell_type": "markdown",
      "source": [
        "# Dataset Overview"
      ],
      "metadata": {
        "id": "gWHMa_r_D1Ik"
      }
    },
    {
      "cell_type": "code",
      "source": [
        "print(\"Max Length:\")\n",
        "print(\"train = \", max([len(data) for data in train_dataset]))\n",
        "print(\"test  = \", max([len(data) for data in test_dataset]))\n",
        "print(\"valid = \", max([len(data) for data in valid_dataset]))\n",
        "\n",
        "print(\"\\nAvg Length:\")\n",
        "print(\"train = \", np.mean([len(data) for data in train_dataset]))\n",
        "print(\"test  = \", np.mean([len(data) for data in test_dataset]))\n",
        "print(\"valid = \", np.mean([len(data) for data in valid_dataset]))"
      ],
      "metadata": {
        "colab": {
          "base_uri": "https://localhost:8080/"
        },
        "id": "ShMT2eJRD6we",
        "outputId": "24195b02-a548-487f-bf7a-8f626c4696ac"
      },
      "execution_count": 6,
      "outputs": [
        {
          "output_type": "stream",
          "name": "stdout",
          "text": [
            "Max Length:\n",
            "train =  734\n",
            "test  =  734\n",
            "valid =  676\n",
            "\n",
            "Avg Length:\n",
            "train =  29.24276051743712\n",
            "test  =  29.4551559468736\n",
            "valid =  29.323931049921647\n"
          ]
        }
      ]
    },
    {
      "cell_type": "code",
      "source": [
        "plt.title(\"Number of Tokens per Data Status\")\n",
        "plt.xlabel(\"Number of Tokens per Data\")\n",
        "plt.ylabel(\"Frequency\")\n",
        "plt.hist([len(data) for data in train_dataset], color=\"orange\")\n",
        "plt.show()"
      ],
      "metadata": {
        "colab": {
          "base_uri": "https://localhost:8080/",
          "height": 295
        },
        "id": "SzmrjKj72sbD",
        "outputId": "309f4ced-80cb-4f0c-fe49-c27f0b832602"
      },
      "execution_count": 7,
      "outputs": [
        {
          "output_type": "display_data",
          "data": {
            "text/plain": [
              "<Figure size 432x288 with 1 Axes>"
            ],
            "image/png": "[encoded data removed]"
          },
          "metadata": {
            "needs_background": "light"
          }
        }
      ]
    },
    {
      "cell_type": "code",
      "source": [
        "plt.title(\"Number of Tokens per Data Status\")\n",
        "plt.xlabel(\"Number of Tokens per Data\")\n",
        "plt.ylabel(\"Frequency\")\n",
        "plt.hist([min(len(data), 128) for data in train_dataset], color=\"orange\")\n",
        "plt.show()"
      ],
      "metadata": {
        "colab": {
          "base_uri": "https://localhost:8080/",
          "height": 295
        },
        "id": "7j31OND3CqJE",
        "outputId": "e83bee23-538a-491a-e0c0-7d473cbabe54"
      },
      "execution_count": 8,
      "outputs": [
        {
          "output_type": "display_data",
          "data": {
            "text/plain": [
              "<Figure size 432x288 with 1 Axes>"
            ],
            "image/png": "[encoded data removed]"
          },
          "metadata": {
            "needs_background": "light"
          }
        }
      ]
    },
    {
      "cell_type": "code",
      "source": [
        "print(f\"Percent of Long-tail data = {sum([len(data)>64 for data in train_dataset]) * 100 / len(train_dataset)} %\")"
      ],
      "metadata": {
        "colab": {
          "base_uri": "https://localhost:8080/"
        },
        "id": "EyD0OsPrFOOc",
        "outputId": "be8ba62b-d8b6-4a10-ef97-bff194b91b54"
      },
      "execution_count": 9,
      "outputs": [
        {
          "output_type": "stream",
          "name": "stdout",
          "text": [
            "Percent of Long-tail data = 4.362078063288508 %\n"
          ]
        }
      ]
    },
    {
      "cell_type": "markdown",
      "source": [
        "# Split Long Data"
      ],
      "metadata": {
        "id": "UWGLaDdXIO-b"
      }
    },
    {
      "cell_type": "code",
      "source": [
        "max_length = 64"
      ],
      "metadata": {
        "id": "QPWEt68kIlV6"
      },
      "execution_count": 10,
      "outputs": []
    },
    {
      "cell_type": "code",
      "source": [
        "def split_long_data(dataset, max_length):\n",
        "  new_dataset = []\n",
        "  for data in dataset:\n",
        "    number_new_data = math.ceil(len(data)/max_length)\n",
        "\n",
        "    for i in range(number_new_data):\n",
        "      new_dataset.append(data[i*max_length : min((i+1)*max_length, len(data))])\n",
        "\n",
        "  return new_dataset"
      ],
      "metadata": {
        "id": "kiPMTCizH96b"
      },
      "execution_count": 11,
      "outputs": []
    },
    {
      "cell_type": "code",
      "source": [
        "train_dataset = split_long_data(train_dataset, max_length)\n",
        "test_dataset = split_long_data(test_dataset, max_length)\n",
        "valid_dataset = split_long_data(valid_dataset, max_length)"
      ],
      "metadata": {
        "id": "emB2ZIKlI7ZK"
      },
      "execution_count": 12,
      "outputs": []
    },
    {
      "cell_type": "markdown",
      "source": [
        "# Tag to Index"
      ],
      "metadata": {
        "id": "sS9pFMXK46Uf"
      }
    },
    {
      "cell_type": "code",
      "source": [
        "all_tag = set()\n",
        "\n",
        "for data in train_dataset:\n",
        "  for item in data:\n",
        "    tag = item[1]\n",
        "    all_tag.add(tag)"
      ],
      "metadata": {
        "id": "CWfXV5kl3j5-"
      },
      "execution_count": 13,
      "outputs": []
    },
    {
      "cell_type": "code",
      "source": [
        "tag2index = {tag:i+1 for i, tag in enumerate(all_tag)}\n",
        "tag2index[\"PAD\"] = 0"
      ],
      "metadata": {
        "id": "N5T0jgnJ37GH"
      },
      "execution_count": 14,
      "outputs": []
    },
    {
      "cell_type": "markdown",
      "source": [
        "# Word to Vec "
      ],
      "metadata": {
        "id": "5GMrXdTo5tH3"
      }
    },
    {
      "cell_type": "code",
      "source": [
        "file = open(\"/content/vectors.txt\", \"r\")\n",
        "\n",
        "word2vector = {}\n",
        "\n",
        "for i, line in enumerate(file.readlines()):\n",
        "  line_splitted = line.split()\n",
        "  word = line_splitted[0]\n",
        "  vector = np.array(line_splitted[1:], dtype=\"float\")\n",
        "\n",
        "  word2vector[word] = vector"
      ],
      "metadata": {
        "id": "hCS0rJAs58Em"
      },
      "execution_count": 15,
      "outputs": []
    },
    {
      "cell_type": "code",
      "source": [
        "embedding_size = len(word2vector['#1'])"
      ],
      "metadata": {
        "id": "x0meOzaSnib4"
      },
      "execution_count": 16,
      "outputs": []
    },
    {
      "cell_type": "markdown",
      "source": [
        "# Digitalize & Padding"
      ],
      "metadata": {
        "id": "80cPNO8248a3"
      }
    },
    {
      "cell_type": "code",
      "source": [
        "def preprocess(dataset, max_length, embedding_size):\n",
        "  digitalized_dataset = []\n",
        "  dataset_X = []\n",
        "  dataset_y = []\n",
        "\n",
        "  for data in dataset:\n",
        "    dataset_X.append([])\n",
        "    dataset_y.append([])\n",
        "\n",
        "    for item in data:\n",
        "      vector = word2vector.get(item[0], np.zeros(embedding_size))\n",
        "      tag_index = tag2index[item[1]]\n",
        "      dataset_X[-1].append(vector)\n",
        "      dataset_y[-1].append(tag_index)\n",
        "\n",
        "    for _ in range(max_length-len(dataset_y[-1])):\n",
        "      dataset_y[-1].append(0)\n",
        "      dataset_X[-1].append(np.zeros(embedding_size))\n",
        "\n",
        "\n",
        "  dataset_X = np.array(dataset_X)\n",
        "  dataset_y = np.array(dataset_y)\n",
        "\n",
        "  return dataset_X, dataset_y"
      ],
      "metadata": {
        "id": "q7z9nP9_7jGu"
      },
      "execution_count": 17,
      "outputs": []
    },
    {
      "cell_type": "code",
      "source": [
        "train_X, train_y = preprocess(train_dataset, max_length, embedding_size)\n",
        "test_X, test_y = preprocess(test_dataset, max_length, embedding_size)\n",
        "valid_X, valid_y = preprocess(valid_dataset, max_length, embedding_size)"
      ],
      "metadata": {
        "id": "IPQ187Pg8PZ3"
      },
      "execution_count": 18,
      "outputs": []
    },
    {
      "cell_type": "markdown",
      "source": [
        "# Accuracy Metric"
      ],
      "metadata": {
        "id": "-DclRFeTO3xV"
      }
    },
    {
      "cell_type": "code",
      "source": [
        "def ignore_class_accuracy(to_ignore=0):\n",
        "   # Refrence: https://nlpforhackers.io/lstm-pos-tagger-keras/\n",
        "  \n",
        "  def ignore_accuracy(y_true, y_pred):\n",
        "    y_pred_class = backend.argmax(y_pred, axis=-1)\n",
        "    y_true_class = backend.argmax(y_true, axis=-1)\n",
        "    y_true_class = backend.cast(y_true, \"int64\")\n",
        "\n",
        "    ignore_mask = backend.cast(backend.not_equal(y_pred_class, to_ignore), 'int32')\n",
        "    matches = backend.cast(backend.equal(y_true_class, y_pred_class), 'int32') * ignore_mask\n",
        "    accuracy = backend.sum(matches) / backend.maximum(backend.sum(ignore_mask), 1)\n",
        "    return accuracy\n",
        "  \n",
        "  return ignore_accuracy"
      ],
      "metadata": {
        "id": "5DqfzUOT4nxK"
      },
      "execution_count": 19,
      "outputs": []
    },
    {
      "cell_type": "markdown",
      "source": [
        "# BiLSTM Model"
      ],
      "metadata": {
        "id": "SlzmI-LYNb15"
      }
    },
    {
      "cell_type": "code",
      "source": [
        "class BiLSTM(keras.Model):\n",
        "  def __init__(self, max_length, embedding_size, number_tags, lstm_units):\n",
        "    super().__init__()\n",
        "    self.model = Sequential([\n",
        "                             Input((max_length, embedding_size)),\n",
        "                             Bidirectional(LSTM(lstm_units, return_sequences=True)),\n",
        "                             TimeDistributed(Dense(number_tags+1, activation=\"softmax\"))\n",
        "    ])\n",
        "  \n",
        "  def call(self, inputs):\n",
        "    return self.model(inputs)"
      ],
      "metadata": {
        "id": "FbP71C-bAi9B"
      },
      "execution_count": 22,
      "outputs": []
    },
    {
      "cell_type": "code",
      "source": [
        "model = BiLSTM(max_length=max_length, embedding_size=embedding_size, number_tags=len(all_tag), lstm_units=64)"
      ],
      "metadata": {
        "id": "s250KwYGTe-P"
      },
      "execution_count": 23,
      "outputs": []
    },
    {
      "cell_type": "code",
      "source": [
        "model.compile(optimizer=\"adam\", loss=\"sparse_categorical_crossentropy\", metrics=[\"accuracy\", ignore_class_accuracy(0)])"
      ],
      "metadata": {
        "id": "bhqbTl7IQV14"
      },
      "execution_count": 24,
      "outputs": []
    },
    {
      "cell_type": "code",
      "source": [
        "es_callback = EarlyStopping(monitor=\"val_loss\", restore_best_weights=True, patience=2)"
      ],
      "metadata": {
        "id": "JUVqQ38ow_pn"
      },
      "execution_count": 25,
      "outputs": []
    },
    {
      "cell_type": "markdown",
      "source": [
        "# Training"
      ],
      "metadata": {
        "id": "MUoLdJ05PRaM"
      }
    },
    {
      "cell_type": "code",
      "source": [
        "model.fit(x=train_X, y=train_y, epochs=1, validation_data=(valid_X, valid_y), callbacks=[es_callback])"
      ],
      "metadata": {
        "colab": {
          "base_uri": "https://localhost:8080/"
        },
        "id": "uuY5JOnNSiE4",
        "outputId": "934583ed-6320-4510-cca2-2cfa802e638c"
      },
      "execution_count": 27,
      "outputs": [
        {
          "output_type": "stream",
          "name": "stdout",
          "text": [
            "2054/2054 [==============================] - 145s 68ms/step - loss: 0.3399 - accuracy: 0.9051 - ignore_accuracy: 0.7894 - val_loss: 0.1865 - val_accuracy: 0.9440 - val_ignore_accuracy: 0.8742\n"
          ]
        },
        {
          "output_type": "execute_result",
          "data": {
            "text/plain": [
              "<keras.callbacks.History at 0x7f846cee5110>"
            ]
          },
          "metadata": {},
          "execution_count": 27
        }
      ]
    },
    {
      "cell_type": "markdown",
      "source": [
        "# Evalluation & Report"
      ],
      "metadata": {
        "id": "-f3MT0uHPTqt"
      }
    },
    {
      "cell_type": "code",
      "source": [
        "plt.title(\"Loss Per Epochs\")\n",
        "plt.xlabel(\"Epoch\")\n",
        "plt.ylabel(\"Loss\")\n",
        "\n",
        "train_loss_list = model.history.history[\"loss\"]\n",
        "valid_loss_list = model.history.history[\"val_loss\"]\n",
        "\n",
        "epochs = range(1, len(train_loss_list)+1)\n",
        "\n",
        "plt.scatter(epochs, train_loss_list, label=\"Train Loss\", color=\"green\")\n",
        "plt.scatter(epochs, valid_loss_list, label=\"Valid Loss\", color=\"red\")\n",
        "\n",
        "plt.plot(epochs, train_loss_list, color=\"green\")\n",
        "plt.plot(epochs, valid_loss_list, color=\"red\")\n",
        "\n",
        "plt.legend()\n",
        "\n",
        "plt.show()"
      ],
      "metadata": {
        "colab": {
          "base_uri": "https://localhost:8080/",
          "height": 295
        },
        "id": "r1_qK25sOSc9",
        "outputId": "2e13e260-bc94-40fd-e899-659104f48cd8"
      },
      "execution_count": 45,
      "outputs": [
        {
          "output_type": "display_data",
          "data": {
            "text/plain": [
              "<Figure size 432x288 with 1 Axes>"
            ],
            "image/png": "[encoded data removed]"
          },
          "metadata": {
            "needs_background": "light"
          }
        }
      ]
    },
    {
      "cell_type": "code",
      "source": [
        "plt.title(\"Accuracy Per Epochs\")\n",
        "plt.xlabel(\"Epoch\")\n",
        "plt.ylabel(\"Accuracy\")\n",
        "\n",
        "train_accuracy_list = model.history.history[\"ignore_accuracy\"]\n",
        "valid_accuracy_list = model.history.history[\"val_ignore_accuracy\"]\n",
        "\n",
        "epochs = range(1, len(train_accuracy_list)+1)\n",
        "\n",
        "plt.scatter(epochs, train_accuracy_list, label=\"Train Accuracy\", color=\"green\")\n",
        "plt.scatter(epochs, valid_accuracy_list, label=\"Valid Accuracy\", color=\"red\")\n",
        "\n",
        "plt.plot(epochs, train_accuracy_list, color=\"green\")\n",
        "plt.plot(epochs, valid_accuracy_list, color=\"red\")\n",
        "\n",
        "plt.legend()\n",
        "\n",
        "plt.show()"
      ],
      "metadata": {
        "colab": {
          "base_uri": "https://localhost:8080/",
          "height": 295
        },
        "id": "ELpQJO18RHkD",
        "outputId": "b136a389-2d2e-4570-c028-7e1c5532fd33"
      },
      "execution_count": 46,
      "outputs": [
        {
          "output_type": "display_data",
          "data": {
            "text/plain": [
              "<Figure size 432x288 with 1 Axes>"
            ],
            "image/png": "[encoded data removed]"
          },
          "metadata": {
            "needs_background": "light"
          }
        }
      ]
    },
    {
      "cell_type": "code",
      "source": [
        "model.evaluate(train_X, train_y)\n",
        "model.evaluate(valid_X, valid_y)\n",
        "model.evaluate(test_X, test_y)"
      ],
      "metadata": {
        "colab": {
          "base_uri": "https://localhost:8080/"
        },
        "id": "0ZsKYqBgb5I-",
        "outputId": "c9c11b52-5b71-4837-a04e-0f558e372908"
      },
      "execution_count": 45,
      "outputs": [
        {
          "output_type": "stream",
          "name": "stdout",
          "text": [
            "2054/2054 [==============================] - 46s 23ms/step - loss: 0.1865 - accuracy: 0.9440 - ignore_accuracy: 0.8738\n",
            "441/441 [==============================] - 9s 20ms/step - loss: 0.1865 - accuracy: 0.9440 - ignore_accuracy: 0.8742\n",
            "441/441 [==============================] - 9s 20ms/step - loss: 0.1919 - accuracy: 0.9426 - ignore_accuracy: 0.8724\n"
          ]
        },
        {
          "output_type": "execute_result",
          "data": {
            "text/plain": [
              "[0.19186432659626007, 0.9426292777061462, 0.872361421585083]"
            ]
          },
          "metadata": {},
          "execution_count": 45
        }
      ]
    },
    {
      "cell_type": "code",
      "source": [
        "test_yp = model.predict(test_X).argmax(-1)"
      ],
      "metadata": {
        "id": "8qBI9lOBS5tC"
      },
      "execution_count": 41,
      "outputs": []
    },
    {
      "cell_type": "code",
      "source": [
        "precision, recall, fscore, support = precision_recall_fscore_support(test_y.flatten(), test_yp.flatten())"
      ],
      "metadata": {
        "colab": {
          "base_uri": "https://localhost:8080/"
        },
        "id": "3izRGgH0dbh5",
        "outputId": "ea1e401c-c38c-49b4-8fe7-de15205f4135"
      },
      "execution_count": 61,
      "outputs": [
        {
          "output_type": "stream",
          "name": "stderr",
          "text": [
            "/usr/local/lib/python3.7/dist-packages/sklearn/metrics/_classification.py:1318: UndefinedMetricWarning: Precision and F-score are ill-defined and being set to 0.0 in labels with no predicted samples. Use `zero_division` parameter to control this behavior.\n",
            "  _warn_prf(average, modifier, msg_start, len(result))\n"
          ]
        }
      ]
    },
    {
      "cell_type": "code",
      "source": [
        "precision"
      ],
      "metadata": {
        "colab": {
          "base_uri": "https://localhost:8080/"
        },
        "id": "xlm-4tysdgEa",
        "outputId": "91cdfcab-9bcd-4400-cb84-49d5f13dda5a"
      },
      "execution_count": 62,
      "outputs": [
        {
          "output_type": "execute_result",
          "data": {
            "text/plain": [
              "array([0.9972026 , 0.90114068, 0.90342024, 0.75      , 0.8390411 ,\n",
              "       0.83668815, 0.97487437, 0.        , 0.90519878, 0.80466363,\n",
              "       0.65626548, 0.99981604, 0.94501718, 0.78949173, 0.97060311,\n",
              "       0.        , 0.        , 0.6084788 , 0.90901676, 0.        ,\n",
              "       0.        , 0.78309493, 0.87391723, 0.93997599, 0.91950464,\n",
              "       0.92303085, 0.93842271, 0.86070468, 0.88732394, 0.8120332 ,\n",
              "       0.        ])"
            ]
          },
          "metadata": {},
          "execution_count": 62
        }
      ]
    },
    {
      "cell_type": "code",
      "source": [
        "recall"
      ],
      "metadata": {
        "colab": {
          "base_uri": "https://localhost:8080/"
        },
        "id": "HEviPRtOe0bh",
        "outputId": "8347b4a4-ae7f-4402-8407-ca21e9c2f832"
      },
      "execution_count": 63,
      "outputs": [
        {
          "output_type": "execute_result",
          "data": {
            "text/plain": [
              "array([0.99945461, 0.48815654, 0.88457315, 0.20331325, 0.66576087,\n",
              "       0.69764365, 0.95768093, 0.        , 0.61157025, 0.93589121,\n",
              "       0.33166458, 0.99981604, 0.84615385, 0.7602344 , 0.97180112,\n",
              "       0.        , 0.        , 0.43727599, 0.9131543 , 0.        ,\n",
              "       0.        , 0.66407521, 0.8075418 , 0.67909801, 0.50943396,\n",
              "       0.91057711, 0.91273932, 0.91552085, 0.30071599, 0.821751  ,\n",
              "       0.        ])"
            ]
          },
          "metadata": {},
          "execution_count": 63
        }
      ]
    },
    {
      "cell_type": "code",
      "source": [
        "len(all_tag)"
      ],
      "metadata": {
        "colab": {
          "base_uri": "https://localhost:8080/"
        },
        "id": "Ngh5-S8fe4_e",
        "outputId": "d6469af4-27c1-4085-b54a-10afa48843e3"
      },
      "execution_count": 65,
      "outputs": [
        {
          "output_type": "execute_result",
          "data": {
            "text/plain": [
              "30"
            ]
          },
          "metadata": {},
          "execution_count": 65
        }
      ]
    },
    {
      "cell_type": "code",
      "source": [
        "test_all_tag = set()\n",
        "\n",
        "for data in test_dataset:\n",
        "  for item in data:\n",
        "    tag = item[1]\n",
        "    test_all_tag.add(tag)"
      ],
      "metadata": {
        "id": "ldvT735wfJUI"
      },
      "execution_count": 66,
      "outputs": []
    },
    {
      "cell_type": "code",
      "source": [
        "confusion = confusion_matrix(test_y.flatten(), test_yp.flatten())"
      ],
      "metadata": {
        "id": "05qbVU1CfWQS"
      },
      "execution_count": 82,
      "outputs": []
    },
    {
      "cell_type": "code",
      "source": [
        "confusion = confusion[1: , 1:]"
      ],
      "metadata": {
        "id": "wBy7gOHRiLOX"
      },
      "execution_count": 83,
      "outputs": []
    },
    {
      "cell_type": "code",
      "source": [
        "df_cm = pd.DataFrame(confusion, index = [i for i in all_tag],\n",
        "                     columns = [i for i in all_tag])\n",
        "\n",
        "plt.figure(figsize = (10,7))\n",
        "sn.heatmap(df_cm, annot=False)\n",
        "plt.show()"
      ],
      "metadata": {
        "colab": {
          "base_uri": "https://localhost:8080/",
          "height": 476
        },
        "id": "21LFe4MAhtRy",
        "outputId": "5580f938-bcfe-4298-8e96-da87fa7b6bb3"
      },
      "execution_count": 87,
      "outputs": [
        {
          "output_type": "display_data",
          "data": {
            "text/plain": [
              "<Figure size 720x504 with 2 Axes>"
            ],
            "image/png": "[encoded data removed]"
          },
          "metadata": {
            "needs_background": "light"
          }
        }
      ]
    },
    {
      "cell_type": "code",
      "source": [
        ""
      ],
      "metadata": {
        "id": "V_lARBqzh8Ff"
      },
      "execution_count": null,
      "outputs": []
    }
  ]
}