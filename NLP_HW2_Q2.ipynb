{
  "nbformat": 4,
  "nbformat_minor": 0,
  "metadata": {
    "colab": {
      "name": "NLP_HW2_Q2.ipynb",
      "provenance": [],
      "collapsed_sections": [],
      "toc_visible": true,
      "authorship_tag": "ABX9TyNZ1yZjMbQnBOjX5eU+G8bQ",
      "include_colab_link": true
    },
    "kernelspec": {
      "name": "python3",
      "display_name": "Python 3"
    },
    "language_info": {
      "name": "python"
    }
  },
  "cells": [
    {
      "cell_type": "markdown",
      "metadata": {
        "id": "view-in-github",
        "colab_type": "text"
      },
      "source": [
        "<a href=\"https://colab.research.google.com/github/AUT-Student/NLP-HW2/blob/main/NLP_HW2_Q2.ipynb\" target=\"_parent\"><img src=\"https://colab.research.google.com/assets/colab-badge.svg\" alt=\"Open In Colab\"/></a>"
      ]
    },
    {
      "cell_type": "markdown",
      "source": [
        "# Libraries"
      ],
      "metadata": {
        "id": "Vs2_-yJhgbwd"
      }
    },
    {
      "cell_type": "code",
      "execution_count": 73,
      "metadata": {
        "id": "eHo6mTl5gWxJ"
      },
      "outputs": [],
      "source": [
        "import pandas as pd\n",
        "import numpy as np\n",
        "import math\n",
        "import matplotlib.pyplot as plt\n",
        "\n",
        "import tensorflow as tf\n",
        "from tensorflow import keras\n",
        "from keras.preprocessing.sequence import pad_sequences\n",
        "from keras.layers import Dense, Bidirectional, LSTM, Input\n",
        "from keras.models import Sequential"
      ]
    },
    {
      "cell_type": "markdown",
      "source": [
        "# Dataset"
      ],
      "metadata": {
        "id": "HUG_NjqlgecV"
      }
    },
    {
      "cell_type": "code",
      "source": [
        "!gdown 1Px1lQhMgkdeFigxwmqvk1ojJPZpq40u5\n",
        "!gdown 1WHbpY1Ydqq7yqtQ2YFavR78zsD7nDwbg\n",
        "!gdown 1pMJQk75R3898sUzFKUMQTPPE_QlllvAY\n",
        "!gdown 1NMesvM67oiJ6-PpSbtErFanj0JMl_Z50"
      ],
      "metadata": {
        "colab": {
          "base_uri": "https://localhost:8080/"
        },
        "id": "m8Dy1Twogfcc",
        "outputId": "e387dc6d-5e42-4399-d9da-b5fc8f238c1a"
      },
      "execution_count": 3,
      "outputs": [
        {
          "output_type": "stream",
          "name": "stdout",
          "text": [
            "Downloading...\n",
            "From: https://drive.google.com/uc?id=1Px1lQhMgkdeFigxwmqvk1ojJPZpq40u5\n",
            "To: /content/UPC_2016_train.txt\n",
            "100% 25.4M/25.4M [00:00<00:00, 159MB/s] \n",
            "Downloading...\n",
            "From: https://drive.google.com/uc?id=1WHbpY1Ydqq7yqtQ2YFavR78zsD7nDwbg\n",
            "To: /content/UPC_2016_val.txt\n",
            "100% 5.47M/5.47M [00:00<00:00, 171MB/s]\n",
            "Downloading...\n",
            "From: https://drive.google.com/uc?id=1pMJQk75R3898sUzFKUMQTPPE_QlllvAY\n",
            "To: /content/UPC_2016_test.txt\n",
            "100% 5.48M/5.48M [00:00<00:00, 233MB/s]\n",
            "Downloading...\n",
            "From: https://drive.google.com/uc?id=1NMesvM67oiJ6-PpSbtErFanj0JMl_Z50\n",
            "To: /content/vectors.zip\n",
            "100% 48.2M/48.2M [00:00<00:00, 147MB/s]\n"
          ]
        }
      ]
    },
    {
      "cell_type": "code",
      "source": [
        "def read_dataset(filepath):\n",
        "  file = open(filepath, \"r\")\n",
        "\n",
        "  dataset = [[]]\n",
        "\n",
        "  item_counter = 0\n",
        "  end_line = False\n",
        "  for line in file.readlines():\n",
        "    line_splitted = line.split()\n",
        "    if len(line_splitted) == 2:  \n",
        "      token, tag = line_splitted\n",
        "      \n",
        "      dataset[-1].append((token, tag))\n",
        "    else:\n",
        "      dataset.append([])\n",
        "      item_counter += 1\n",
        "\n",
        "  return dataset[:-1]"
      ],
      "metadata": {
        "id": "xMzhvV52pV21"
      },
      "execution_count": 4,
      "outputs": []
    },
    {
      "cell_type": "code",
      "source": [
        "train_dataset = read_dataset(\"/content/UPC_2016_train.txt\")\n",
        "valid_dataset = read_dataset(\"/content/UPC_2016_val.txt\")\n",
        "test_dataset = read_dataset(\"/content/UPC_2016_test.txt\")"
      ],
      "metadata": {
        "id": "u-yV0N7SqKj6"
      },
      "execution_count": 5,
      "outputs": []
    },
    {
      "cell_type": "code",
      "source": [
        "!unzip /content/vectors.zip"
      ],
      "metadata": {
        "colab": {
          "base_uri": "https://localhost:8080/"
        },
        "id": "LRS_p2k5hROb",
        "outputId": "636e7a37-11fe-4ef7-87ff-4e67cbdf187f"
      },
      "execution_count": 11,
      "outputs": [
        {
          "output_type": "stream",
          "name": "stdout",
          "text": [
            "Archive:  /content/vectors.zip\n",
            "replace vectors.txt? [y]es, [n]o, [A]ll, [N]one, [r]ename: y\n",
            "  inflating: vectors.txt             \n"
          ]
        }
      ]
    },
    {
      "cell_type": "markdown",
      "source": [
        "# Dataset Overview"
      ],
      "metadata": {
        "id": "gWHMa_r_D1Ik"
      }
    },
    {
      "cell_type": "code",
      "source": [
        "print(\"train max length = \", max([len(data) for data in train_dataset]))\n",
        "print(\"test max length = \", max([len(data) for data in test_dataset]))\n",
        "print(\"valid max length = \", max([len(data) for data in valid_dataset]))"
      ],
      "metadata": {
        "colab": {
          "base_uri": "https://localhost:8080/"
        },
        "id": "ShMT2eJRD6we",
        "outputId": "37369563-d06b-4aa6-8ca2-48e1b6ce4e45"
      },
      "execution_count": 30,
      "outputs": [
        {
          "output_type": "stream",
          "name": "stdout",
          "text": [
            "train max length =  734\n",
            "test max length =  734\n",
            "valid max length =  676\n"
          ]
        }
      ]
    },
    {
      "cell_type": "code",
      "source": [
        "max_length = max([len(data) for data in train_dataset])"
      ],
      "metadata": {
        "id": "v4A-5rzx4_Ix"
      },
      "execution_count": 15,
      "outputs": []
    },
    {
      "cell_type": "code",
      "source": [
        "plt.title(\"Number of Tokens per Data Status\")\n",
        "plt.xlabel(\"Number of Tokens per Data\")\n",
        "plt.ylabel(\"Frequency\")\n",
        "plt.hist([len(data) for data in train_dataset], color=\"orange\")\n",
        "plt.show()"
      ],
      "metadata": {
        "colab": {
          "base_uri": "https://localhost:8080/",
          "height": 295
        },
        "id": "7j31OND3CqJE",
        "outputId": "7231aa9b-c036-4fed-a6a2-59bf9c9eeb56"
      },
      "execution_count": 26,
      "outputs": [
        {
          "output_type": "display_data",
          "data": {
            "text/plain": [
              "<Figure size 432x288 with 1 Axes>"
            ],
            "image/png": "[encoded data removed]"
          },
          "metadata": {
            "needs_background": "light"
          }
        }
      ]
    },
    {
      "cell_type": "code",
      "source": [
        "print(f\"Percent of Long-tail data = {sum([len(data)>128 for data in train_dataset]) * 100 / len(train_dataset)} %\")"
      ],
      "metadata": {
        "colab": {
          "base_uri": "https://localhost:8080/"
        },
        "id": "EyD0OsPrFOOc",
        "outputId": "5452a37d-debb-4a39-f471-2721063b95b7"
      },
      "execution_count": 46,
      "outputs": [
        {
          "output_type": "stream",
          "name": "stdout",
          "text": [
            "Percent of Long-tail data = 0.37896352675930217 %\n"
          ]
        }
      ]
    },
    {
      "cell_type": "markdown",
      "source": [
        "# Split Long Data"
      ],
      "metadata": {
        "id": "UWGLaDdXIO-b"
      }
    },
    {
      "cell_type": "code",
      "source": [
        "max_length = 128"
      ],
      "metadata": {
        "id": "QPWEt68kIlV6"
      },
      "execution_count": 47,
      "outputs": []
    },
    {
      "cell_type": "code",
      "source": [
        "def split_long_data(dataset, max_length):\n",
        "  new_dataset = []\n",
        "  for data in dataset:\n",
        "    number_new_data = math.ceil(len(data)/max_length)\n",
        "\n",
        "    for i in range(number_new_data):\n",
        "      new_dataset.append(data[i*max_length : min((i+1)*max_length, len(data))])\n",
        "\n",
        "  return new_dataset"
      ],
      "metadata": {
        "id": "kiPMTCizH96b"
      },
      "execution_count": 53,
      "outputs": []
    },
    {
      "cell_type": "code",
      "source": [
        "train_dataset = split_long_data(train_dataset, max_length)\n",
        "test_dataset = split_long_data(test_dataset, max_length)\n",
        "valid_dataset = split_long_data(valid_dataset, max_length)"
      ],
      "metadata": {
        "id": "emB2ZIKlI7ZK"
      },
      "execution_count": 58,
      "outputs": []
    },
    {
      "cell_type": "markdown",
      "source": [
        "# Tag to Index"
      ],
      "metadata": {
        "id": "sS9pFMXK46Uf"
      }
    },
    {
      "cell_type": "code",
      "source": [
        "all_tag = set()\n",
        "\n",
        "for data in train_dataset:\n",
        "  for item in data:\n",
        "    tag = item[1]\n",
        "    all_tag.add(tag)"
      ],
      "metadata": {
        "id": "CWfXV5kl3j5-"
      },
      "execution_count": 12,
      "outputs": []
    },
    {
      "cell_type": "code",
      "source": [
        "tag2index = {tag:i+1 for i, tag in enumerate(all_tag)}\n",
        "tag2index[\"PAD\"] = 0"
      ],
      "metadata": {
        "id": "N5T0jgnJ37GH"
      },
      "execution_count": 13,
      "outputs": []
    },
    {
      "cell_type": "markdown",
      "source": [
        "# Word to Vec "
      ],
      "metadata": {
        "id": "5GMrXdTo5tH3"
      }
    },
    {
      "cell_type": "code",
      "source": [
        "file = open(\"/content/vectors.txt\", \"r\")\n",
        "\n",
        "word2vector = {}\n",
        "\n",
        "for i, line in enumerate(file.readlines()):\n",
        "  line_splitted = line.split()\n",
        "  word = line_splitted[0]\n",
        "  vector = np.array(line_splitted[1:], dtype=\"float\")\n",
        "\n",
        "  word2vector[word] = vector"
      ],
      "metadata": {
        "id": "hCS0rJAs58Em"
      },
      "execution_count": 14,
      "outputs": []
    },
    {
      "cell_type": "markdown",
      "source": [
        "# Digitalize & Padding"
      ],
      "metadata": {
        "id": "80cPNO8248a3"
      }
    },
    {
      "cell_type": "code",
      "source": [
        "def preprocess(dataset, max_length):\n",
        "  digitalized_dataset = []\n",
        "  dataset_X = []\n",
        "  dataset_y = []\n",
        "\n",
        "  for data in dataset:\n",
        "    dataset_X.append([])\n",
        "    dataset_y.append([])\n",
        "\n",
        "    for item in data:\n",
        "      vector = word2vector.get(item[0], np.zeros(50))\n",
        "      tag_index = tag2index[item[1]]\n",
        "      dataset_X[-1].append(vector)\n",
        "      dataset_y[-1].append(tag_index)\n",
        "\n",
        "    for _ in range(max_length-len(dataset_y[-1])):\n",
        "      dataset_y[-1].append(0)\n",
        "      dataset_X[-1].append(np.zeros(50))\n",
        "\n",
        "  return dataset_X, dataset_y"
      ],
      "metadata": {
        "id": "q7z9nP9_7jGu"
      },
      "execution_count": 59,
      "outputs": []
    },
    {
      "cell_type": "code",
      "source": [
        "train_X, train_y = preprocess(train_dataset, max_length)\n",
        "test_X, test_y = preprocess(test_dataset, max_length)\n",
        "valid_X, valid_y = preprocess(valid_dataset, max_length)"
      ],
      "metadata": {
        "id": "IPQ187Pg8PZ3"
      },
      "execution_count": 68,
      "outputs": []
    },
    {
      "cell_type": "markdown",
      "source": [
        "# BiLSTM Model"
      ],
      "metadata": {
        "id": "SlzmI-LYNb15"
      }
    },
    {
      "cell_type": "code",
      "source": [
        "class BiLSTM(keras.model):\n",
        "  def __init__(self, max_length, number_tags):\n",
        "    super().__init()\n",
        "    self.model = Sequential([\n",
        "                             Input(input_shape=(max_length, 50)),\n",
        "                             Bidirectional(LSTM(256, return_sequence=True)),\n",
        "                             Dense(number_tags, activation=\"softmax\")\n",
        "    ])\n",
        "  \n",
        "  def call(self, inputs):\n",
        "    return self.model(inputs)"
      ],
      "metadata": {
        "id": "FbP71C-bAi9B"
      },
      "execution_count": null,
      "outputs": []
    },
    {
      "cell_type": "code",
      "source": [
        ""
      ],
      "metadata": {
        "id": "bhqbTl7IQV14"
      },
      "execution_count": null,
      "outputs": []
    }
  ]
}