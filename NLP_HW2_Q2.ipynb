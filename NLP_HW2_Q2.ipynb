{
  "nbformat": 4,
  "nbformat_minor": 0,
  "metadata": {
    "colab": {
      "name": "NLP_HW2_Q2.ipynb",
      "provenance": [],
      "collapsed_sections": [],
      "toc_visible": true,
      "authorship_tag": "ABX9TyONOYcTwFbQtOicSFQ69BaW",
      "include_colab_link": true
    },
    "kernelspec": {
      "name": "python3",
      "display_name": "Python 3"
    },
    "language_info": {
      "name": "python"
    }
  },
  "cells": [
    {
      "cell_type": "markdown",
      "metadata": {
        "id": "view-in-github",
        "colab_type": "text"
      },
      "source": [
        "<a href=\"https://colab.research.google.com/github/AUT-Student/NLP-HW2/blob/main/NLP_HW2_Q2.ipynb\" target=\"_parent\"><img src=\"https://colab.research.google.com/assets/colab-badge.svg\" alt=\"Open In Colab\"/></a>"
      ]
    },
    {
      "cell_type": "markdown",
      "source": [
        "# Libraries"
      ],
      "metadata": {
        "id": "Vs2_-yJhgbwd"
      }
    },
    {
      "cell_type": "code",
      "execution_count": 1,
      "metadata": {
        "id": "eHo6mTl5gWxJ"
      },
      "outputs": [],
      "source": [
        "import pandas as pd\n",
        "import numpy as np\n",
        "import math\n",
        "import matplotlib.pyplot as plt\n",
        "\n",
        "import tensorflow as tf\n",
        "from tensorflow import keras\n",
        "from keras.preprocessing.sequence import pad_sequences\n",
        "from keras.layers import Input, Dense, LSTM, Bidirectional, TimeDistributed\n",
        "from keras.models import Sequential\n",
        "from keras.callbacks import EarlyStopping\n",
        "from keras import backend"
      ]
    },
    {
      "cell_type": "markdown",
      "source": [
        "# Dataset"
      ],
      "metadata": {
        "id": "HUG_NjqlgecV"
      }
    },
    {
      "cell_type": "code",
      "source": [
        "!gdown 1Px1lQhMgkdeFigxwmqvk1ojJPZpq40u5\n",
        "!gdown 1WHbpY1Ydqq7yqtQ2YFavR78zsD7nDwbg\n",
        "!gdown 1pMJQk75R3898sUzFKUMQTPPE_QlllvAY\n",
        "!gdown 1NMesvM67oiJ6-PpSbtErFanj0JMl_Z50"
      ],
      "metadata": {
        "colab": {
          "base_uri": "https://localhost:8080/"
        },
        "id": "m8Dy1Twogfcc",
        "outputId": "c91a7f97-15ac-4a95-feb9-e76db7f3b3e8"
      },
      "execution_count": 2,
      "outputs": [
        {
          "output_type": "stream",
          "name": "stdout",
          "text": [
            "Downloading...\n",
            "From: https://drive.google.com/uc?id=1Px1lQhMgkdeFigxwmqvk1ojJPZpq40u5\n",
            "To: /content/UPC_2016_train.txt\n",
            "100% 25.4M/25.4M [00:00<00:00, 241MB/s]\n",
            "Downloading...\n",
            "From: https://drive.google.com/uc?id=1WHbpY1Ydqq7yqtQ2YFavR78zsD7nDwbg\n",
            "To: /content/UPC_2016_val.txt\n",
            "100% 5.47M/5.47M [00:00<00:00, 207MB/s]\n",
            "Downloading...\n",
            "From: https://drive.google.com/uc?id=1pMJQk75R3898sUzFKUMQTPPE_QlllvAY\n",
            "To: /content/UPC_2016_test.txt\n",
            "100% 5.48M/5.48M [00:00<00:00, 222MB/s]\n",
            "Downloading...\n",
            "From: https://drive.google.com/uc?id=1NMesvM67oiJ6-PpSbtErFanj0JMl_Z50\n",
            "To: /content/vectors.zip\n",
            "100% 48.2M/48.2M [00:00<00:00, 282MB/s]\n"
          ]
        }
      ]
    },
    {
      "cell_type": "code",
      "source": [
        "def read_dataset(filepath):\n",
        "  file = open(filepath, \"r\")\n",
        "\n",
        "  dataset = [[]]\n",
        "\n",
        "  item_counter = 0\n",
        "  end_line = False\n",
        "  for line in file.readlines():\n",
        "    line_splitted = line.split()\n",
        "    if len(line_splitted) == 2:  \n",
        "      token, tag = line_splitted\n",
        "      \n",
        "      dataset[-1].append((token, tag))\n",
        "    else:\n",
        "      dataset.append([])\n",
        "      item_counter += 1\n",
        "\n",
        "  return dataset[:-1]"
      ],
      "metadata": {
        "id": "xMzhvV52pV21"
      },
      "execution_count": 3,
      "outputs": []
    },
    {
      "cell_type": "code",
      "source": [
        "train_dataset = read_dataset(\"/content/UPC_2016_train.txt\")\n",
        "valid_dataset = read_dataset(\"/content/UPC_2016_val.txt\")\n",
        "test_dataset = read_dataset(\"/content/UPC_2016_test.txt\")"
      ],
      "metadata": {
        "id": "u-yV0N7SqKj6"
      },
      "execution_count": 4,
      "outputs": []
    },
    {
      "cell_type": "code",
      "source": [
        "!unzip /content/vectors.zip"
      ],
      "metadata": {
        "colab": {
          "base_uri": "https://localhost:8080/"
        },
        "id": "LRS_p2k5hROb",
        "outputId": "7a1ce384-3638-4bdf-9e66-9495f6281819"
      },
      "execution_count": 5,
      "outputs": [
        {
          "output_type": "stream",
          "name": "stdout",
          "text": [
            "Archive:  /content/vectors.zip\n",
            "replace vectors.txt? [y]es, [n]o, [A]ll, [N]one, [r]ename: y\n",
            "  inflating: vectors.txt             \n"
          ]
        }
      ]
    },
    {
      "cell_type": "markdown",
      "source": [
        "# Dataset Overview"
      ],
      "metadata": {
        "id": "gWHMa_r_D1Ik"
      }
    },
    {
      "cell_type": "code",
      "source": [
        "print(\"Max Length:\")\n",
        "print(\"train = \", max([len(data) for data in train_dataset]))\n",
        "print(\"test  = \", max([len(data) for data in test_dataset]))\n",
        "print(\"valid = \", max([len(data) for data in valid_dataset]))\n",
        "\n",
        "print(\"\\nAvg Length:\")\n",
        "print(\"train = \", np.mean([len(data) for data in train_dataset]))\n",
        "print(\"test  = \", np.mean([len(data) for data in test_dataset]))\n",
        "print(\"valid = \", np.mean([len(data) for data in valid_dataset]))"
      ],
      "metadata": {
        "colab": {
          "base_uri": "https://localhost:8080/"
        },
        "id": "ShMT2eJRD6we",
        "outputId": "53b354d7-3eb3-48c3-e8bf-22462cb1e82c"
      },
      "execution_count": 6,
      "outputs": [
        {
          "output_type": "stream",
          "name": "stdout",
          "text": [
            "Max Length:\n",
            "train =  734\n",
            "test  =  734\n",
            "valid =  676\n",
            "\n",
            "Avg Length:\n",
            "train =  29.24276051743712\n",
            "test  =  29.4551559468736\n",
            "valid =  29.323931049921647\n"
          ]
        }
      ]
    },
    {
      "cell_type": "code",
      "source": [
        "plt.title(\"Number of Tokens per Data Status\")\n",
        "plt.xlabel(\"Number of Tokens per Data\")\n",
        "plt.ylabel(\"Frequency\")\n",
        "plt.hist([len(data) for data in train_dataset], color=\"orange\")\n",
        "plt.show()"
      ],
      "metadata": {
        "colab": {
          "base_uri": "https://localhost:8080/",
          "height": 295
        },
        "id": "SzmrjKj72sbD",
        "outputId": "ee984474-b60e-4ae0-e69d-7300494be142"
      },
      "execution_count": 7,
      "outputs": [
        {
          "output_type": "display_data",
          "data": {
            "text/plain": [
              "<Figure size 432x288 with 1 Axes>"
            ],
            "image/png": "[encoded data removed]"
          },
          "metadata": {
            "needs_background": "light"
          }
        }
      ]
    },
    {
      "cell_type": "code",
      "source": [
        "plt.title(\"Number of Tokens per Data Status\")\n",
        "plt.xlabel(\"Number of Tokens per Data\")\n",
        "plt.ylabel(\"Frequency\")\n",
        "plt.hist([min(len(data), 128) for data in train_dataset], color=\"orange\")\n",
        "plt.show()"
      ],
      "metadata": {
        "colab": {
          "base_uri": "https://localhost:8080/",
          "height": 295
        },
        "id": "7j31OND3CqJE",
        "outputId": "be711a93-2e2b-4348-dff3-5cf7d5ff30e5"
      },
      "execution_count": 8,
      "outputs": [
        {
          "output_type": "display_data",
          "data": {
            "text/plain": [
              "<Figure size 432x288 with 1 Axes>"
            ],
            "image/png": "[encoded data removed]"
          },
          "metadata": {
            "needs_background": "light"
          }
        }
      ]
    },
    {
      "cell_type": "code",
      "source": [
        "print(f\"Percent of Long-tail data = {sum([len(data)>64 for data in train_dataset]) * 100 / len(train_dataset)} %\")"
      ],
      "metadata": {
        "colab": {
          "base_uri": "https://localhost:8080/"
        },
        "id": "EyD0OsPrFOOc",
        "outputId": "bf8e2a9d-818c-4ce2-cc2f-89bab2a3c1b2"
      },
      "execution_count": 9,
      "outputs": [
        {
          "output_type": "stream",
          "name": "stdout",
          "text": [
            "Percent of Long-tail data = 4.362078063288508 %\n"
          ]
        }
      ]
    },
    {
      "cell_type": "markdown",
      "source": [
        "# Split Long Data"
      ],
      "metadata": {
        "id": "UWGLaDdXIO-b"
      }
    },
    {
      "cell_type": "code",
      "source": [
        "max_length = 64"
      ],
      "metadata": {
        "id": "QPWEt68kIlV6"
      },
      "execution_count": 10,
      "outputs": []
    },
    {
      "cell_type": "code",
      "source": [
        "def split_long_data(dataset, max_length):\n",
        "  new_dataset = []\n",
        "  for data in dataset:\n",
        "    number_new_data = math.ceil(len(data)/max_length)\n",
        "\n",
        "    for i in range(number_new_data):\n",
        "      new_dataset.append(data[i*max_length : min((i+1)*max_length, len(data))])\n",
        "\n",
        "  return new_dataset"
      ],
      "metadata": {
        "id": "kiPMTCizH96b"
      },
      "execution_count": 11,
      "outputs": []
    },
    {
      "cell_type": "code",
      "source": [
        "train_dataset = split_long_data(train_dataset, max_length)\n",
        "test_dataset = split_long_data(test_dataset, max_length)\n",
        "valid_dataset = split_long_data(valid_dataset, max_length)"
      ],
      "metadata": {
        "id": "emB2ZIKlI7ZK"
      },
      "execution_count": 12,
      "outputs": []
    },
    {
      "cell_type": "markdown",
      "source": [
        "# Tag to Index"
      ],
      "metadata": {
        "id": "sS9pFMXK46Uf"
      }
    },
    {
      "cell_type": "code",
      "source": [
        "all_tag = set()\n",
        "\n",
        "for data in train_dataset:\n",
        "  for item in data:\n",
        "    tag = item[1]\n",
        "    all_tag.add(tag)"
      ],
      "metadata": {
        "id": "CWfXV5kl3j5-"
      },
      "execution_count": 13,
      "outputs": []
    },
    {
      "cell_type": "code",
      "source": [
        "tag2index = {tag:i+1 for i, tag in enumerate(all_tag)}\n",
        "tag2index[\"PAD\"] = 0"
      ],
      "metadata": {
        "id": "N5T0jgnJ37GH"
      },
      "execution_count": 14,
      "outputs": []
    },
    {
      "cell_type": "markdown",
      "source": [
        "# Word to Vec "
      ],
      "metadata": {
        "id": "5GMrXdTo5tH3"
      }
    },
    {
      "cell_type": "code",
      "source": [
        "file = open(\"/content/vectors.txt\", \"r\")\n",
        "\n",
        "word2vector = {}\n",
        "\n",
        "for i, line in enumerate(file.readlines()):\n",
        "  line_splitted = line.split()\n",
        "  word = line_splitted[0]\n",
        "  vector = np.array(line_splitted[1:], dtype=\"float\")\n",
        "\n",
        "  word2vector[word] = vector"
      ],
      "metadata": {
        "id": "hCS0rJAs58Em"
      },
      "execution_count": 15,
      "outputs": []
    },
    {
      "cell_type": "code",
      "source": [
        "embedding_size = len(word2vector['#1'])"
      ],
      "metadata": {
        "id": "x0meOzaSnib4"
      },
      "execution_count": 16,
      "outputs": []
    },
    {
      "cell_type": "markdown",
      "source": [
        "# Digitalize & Padding"
      ],
      "metadata": {
        "id": "80cPNO8248a3"
      }
    },
    {
      "cell_type": "code",
      "source": [
        "def preprocess(dataset, max_length, embedding_size):\n",
        "  digitalized_dataset = []\n",
        "  dataset_X = []\n",
        "  dataset_y = []\n",
        "\n",
        "  for data in dataset:\n",
        "    dataset_X.append([])\n",
        "    dataset_y.append([])\n",
        "\n",
        "    for item in data:\n",
        "      vector = word2vector.get(item[0], np.zeros(embedding_size))\n",
        "      tag_index = tag2index[item[1]]\n",
        "      dataset_X[-1].append(vector)\n",
        "      dataset_y[-1].append(tag_index)\n",
        "\n",
        "    for _ in range(max_length-len(dataset_y[-1])):\n",
        "      dataset_y[-1].append(0)\n",
        "      dataset_X[-1].append(np.zeros(embedding_size))\n",
        "\n",
        "  return dataset_X, dataset_y"
      ],
      "metadata": {
        "id": "q7z9nP9_7jGu"
      },
      "execution_count": 17,
      "outputs": []
    },
    {
      "cell_type": "code",
      "source": [
        "train_X, train_y = preprocess(train_dataset, max_length, embedding_size)\n",
        "test_X, test_y = preprocess(test_dataset, max_length, embedding_size)\n",
        "valid_X, valid_y = preprocess(valid_dataset, max_length, embedding_size)"
      ],
      "metadata": {
        "id": "IPQ187Pg8PZ3"
      },
      "execution_count": 18,
      "outputs": []
    },
    {
      "cell_type": "markdown",
      "source": [
        "# BiLSTM Model"
      ],
      "metadata": {
        "id": "SlzmI-LYNb15"
      }
    },
    {
      "cell_type": "code",
      "source": [
        "class BiLSTM(keras.Model):\n",
        "  def __init__(self, max_length, embedding_size, number_tags):\n",
        "    super().__init__()\n",
        "    self.model = Sequential([\n",
        "                             Input((max_length, embedding_size)),\n",
        "                             Bidirectional(LSTM(256, return_sequences=True)),\n",
        "                             TimeDistributed(Dense(number_tags+1, activation=\"softmax\"))\n",
        "    ])\n",
        "  \n",
        "  def call(self, inputs):\n",
        "    return self.model(inputs)"
      ],
      "metadata": {
        "id": "FbP71C-bAi9B"
      },
      "execution_count": 19,
      "outputs": []
    },
    {
      "cell_type": "code",
      "source": [
        "model = BiLSTM(max_length=max_length, embedding_size=embedding_size, number_tags=len(all_tag))"
      ],
      "metadata": {
        "id": "s250KwYGTe-P"
      },
      "execution_count": 20,
      "outputs": []
    },
    {
      "cell_type": "code",
      "source": [
        "def ignore_class_accuracy(to_ignore=0):\n",
        "   # Refrence: https://nlpforhackers.io/lstm-pos-tagger-keras/\n",
        "  \n",
        "  def ignore_accuracy(y_true, y_pred):\n",
        "    y_pred_class = backend.argmax(y_pred, axis=-1)\n",
        "    y_true_class = backend.argmax(y_true, axis=-1)\n",
        "    y_true_class = backend.cast(y_true, \"int64\")\n",
        "\n",
        "    ignore_mask = backend.cast(backend.not_equal(y_pred_class, to_ignore), 'int32')\n",
        "    matches = backend.cast(backend.equal(y_true_class, y_pred_class), 'int32') * ignore_mask\n",
        "    accuracy = backend.sum(matches) / backend.maximum(backend.sum(ignore_mask), 1)\n",
        "    return accuracy\n",
        "  \n",
        "  return ignore_accuracy"
      ],
      "metadata": {
        "id": "5DqfzUOT4nxK"
      },
      "execution_count": 21,
      "outputs": []
    },
    {
      "cell_type": "code",
      "source": [
        "model.compile(optimizer=\"adam\", loss=\"sparse_categorical_crossentropy\", metrics=[\"accuracy\", ignore_class_accuracy(0)])"
      ],
      "metadata": {
        "id": "bhqbTl7IQV14"
      },
      "execution_count": 22,
      "outputs": []
    },
    {
      "cell_type": "code",
      "source": [
        "es_callback = EarlyStopping(monitor=\"val_loss\", restore_best_weights=True, patience=3)"
      ],
      "metadata": {
        "id": "JUVqQ38ow_pn"
      },
      "execution_count": 23,
      "outputs": []
    },
    {
      "cell_type": "code",
      "source": [
        "train_X_new = np.array(train_X)\n",
        "valid_X_new = np.array(valid_X)\n",
        "\n",
        "train_y_new = np.array(train_y)\n",
        "valid_y_new = np.array(valid_y)"
      ],
      "metadata": {
        "id": "Waqc51Rktplu"
      },
      "execution_count": 24,
      "outputs": []
    },
    {
      "cell_type": "code",
      "source": [
        "model.fit(x=train_X_new, y=train_y_new, epochs=1, validation_data=(valid_X_new, valid_y_new), callbacks=[es_callback])"
      ],
      "metadata": {
        "colab": {
          "base_uri": "https://localhost:8080/"
        },
        "id": "uuY5JOnNSiE4",
        "outputId": "3c5d39a1-0ea9-47be-eb43-899e702e74f9"
      },
      "execution_count": null,
      "outputs": [
        {
          "output_type": "stream",
          "name": "stdout",
          "text": [
            "Epoch 1/10\n",
            "2054/2054 [==============================] - 895s 433ms/step - loss: 0.2656 - accuracy: 0.9218 - ignore_accuracy: 0.8269 - val_loss: 0.1484 - val_accuracy: 0.9554 - val_ignore_accuracy: 0.9001\n",
            "Epoch 2/10\n",
            "1356/2054 [==================>...........] - ETA: 4:45 - loss: 0.1324 - accuracy: 0.9604 - ignore_accuracy: 0.9111"
          ]
        }
      ]
    },
    {
      "cell_type": "code",
      "source": [
        ""
      ],
      "metadata": {
        "id": "jKpN0-0wF4Ku"
      },
      "execution_count": null,
      "outputs": []
    }
  ]
}