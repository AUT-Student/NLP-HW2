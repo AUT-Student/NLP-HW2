{
  "nbformat": 4,
  "nbformat_minor": 0,
  "metadata": {
    "colab": {
      "name": "NLP_HW2_Q2.ipynb",
      "provenance": [],
      "collapsed_sections": [],
      "toc_visible": true,
      "authorship_tag": "ABX9TyOXU0RpaRx7LYzRYyZtdzeF",
      "include_colab_link": true
    },
    "kernelspec": {
      "name": "python3",
      "display_name": "Python 3"
    },
    "language_info": {
      "name": "python"
    }
  },
  "cells": [
    {
      "cell_type": "markdown",
      "metadata": {
        "id": "view-in-github",
        "colab_type": "text"
      },
      "source": [
        "<a href=\"https://colab.research.google.com/github/AUT-Student/NLP-HW2/blob/main/NLP_HW2_Q2.ipynb\" target=\"_parent\"><img src=\"https://colab.research.google.com/assets/colab-badge.svg\" alt=\"Open In Colab\"/></a>"
      ]
    },
    {
      "cell_type": "markdown",
      "source": [
        "# Libraries"
      ],
      "metadata": {
        "id": "Vs2_-yJhgbwd"
      }
    },
    {
      "cell_type": "code",
      "execution_count": 1,
      "metadata": {
        "id": "eHo6mTl5gWxJ"
      },
      "outputs": [],
      "source": [
        "import pandas as pd\n",
        "import numpy as np\n",
        "import math\n",
        "import matplotlib.pyplot as plt\n",
        "\n",
        "import tensorflow as tf\n",
        "from tensorflow import keras\n",
        "from keras.preprocessing.sequence import pad_sequences\n",
        "from keras.layers import Input, Dense, LSTM, Bidirectional, TimeDistributed\n",
        "from keras.models import Sequential\n",
        "from keras.callbacks import EarlyStopping\n",
        "from keras import backend"
      ]
    },
    {
      "cell_type": "markdown",
      "source": [
        "# Dataset"
      ],
      "metadata": {
        "id": "HUG_NjqlgecV"
      }
    },
    {
      "cell_type": "code",
      "source": [
        "!gdown 1Px1lQhMgkdeFigxwmqvk1ojJPZpq40u5\n",
        "!gdown 1WHbpY1Ydqq7yqtQ2YFavR78zsD7nDwbg\n",
        "!gdown 1pMJQk75R3898sUzFKUMQTPPE_QlllvAY\n",
        "!gdown 1NMesvM67oiJ6-PpSbtErFanj0JMl_Z50"
      ],
      "metadata": {
        "colab": {
          "base_uri": "https://localhost:8080/"
        },
        "id": "m8Dy1Twogfcc",
        "outputId": "c91a7f97-15ac-4a95-feb9-e76db7f3b3e8"
      },
      "execution_count": 2,
      "outputs": [
        {
          "output_type": "stream",
          "name": "stdout",
          "text": [
            "Downloading...\n",
            "From: https://drive.google.com/uc?id=1Px1lQhMgkdeFigxwmqvk1ojJPZpq40u5\n",
            "To: /content/UPC_2016_train.txt\n",
            "100% 25.4M/25.4M [00:00<00:00, 241MB/s]\n",
            "Downloading...\n",
            "From: https://drive.google.com/uc?id=1WHbpY1Ydqq7yqtQ2YFavR78zsD7nDwbg\n",
            "To: /content/UPC_2016_val.txt\n",
            "100% 5.47M/5.47M [00:00<00:00, 207MB/s]\n",
            "Downloading...\n",
            "From: https://drive.google.com/uc?id=1pMJQk75R3898sUzFKUMQTPPE_QlllvAY\n",
            "To: /content/UPC_2016_test.txt\n",
            "100% 5.48M/5.48M [00:00<00:00, 222MB/s]\n",
            "Downloading...\n",
            "From: https://drive.google.com/uc?id=1NMesvM67oiJ6-PpSbtErFanj0JMl_Z50\n",
            "To: /content/vectors.zip\n",
            "100% 48.2M/48.2M [00:00<00:00, 282MB/s]\n"
          ]
        }
      ]
    },
    {
      "cell_type": "code",
      "source": [
        "def read_dataset(filepath):\n",
        "  file = open(filepath, \"r\")\n",
        "\n",
        "  dataset = [[]]\n",
        "\n",
        "  item_counter = 0\n",
        "  end_line = False\n",
        "  for line in file.readlines():\n",
        "    line_splitted = line.split()\n",
        "    if len(line_splitted) == 2:  \n",
        "      token, tag = line_splitted\n",
        "      \n",
        "      dataset[-1].append((token, tag))\n",
        "    else:\n",
        "      dataset.append([])\n",
        "      item_counter += 1\n",
        "\n",
        "  return dataset[:-1]"
      ],
      "metadata": {
        "id": "xMzhvV52pV21"
      },
      "execution_count": 3,
      "outputs": []
    },
    {
      "cell_type": "code",
      "source": [
        "train_dataset = read_dataset(\"/content/UPC_2016_train.txt\")\n",
        "valid_dataset = read_dataset(\"/content/UPC_2016_val.txt\")\n",
        "test_dataset = read_dataset(\"/content/UPC_2016_test.txt\")"
      ],
      "metadata": {
        "id": "u-yV0N7SqKj6"
      },
      "execution_count": 4,
      "outputs": []
    },
    {
      "cell_type": "code",
      "source": [
        "!unzip /content/vectors.zip"
      ],
      "metadata": {
        "colab": {
          "base_uri": "https://localhost:8080/"
        },
        "id": "LRS_p2k5hROb",
        "outputId": "7a1ce384-3638-4bdf-9e66-9495f6281819"
      },
      "execution_count": 5,
      "outputs": [
        {
          "output_type": "stream",
          "name": "stdout",
          "text": [
            "Archive:  /content/vectors.zip\n",
            "replace vectors.txt? [y]es, [n]o, [A]ll, [N]one, [r]ename: y\n",
            "  inflating: vectors.txt             \n"
          ]
        }
      ]
    },
    {
      "cell_type": "markdown",
      "source": [
        "# Dataset Overview"
      ],
      "metadata": {
        "id": "gWHMa_r_D1Ik"
      }
    },
    {
      "cell_type": "code",
      "source": [
        "print(\"Max Length:\")\n",
        "print(\"train = \", max([len(data) for data in train_dataset]))\n",
        "print(\"test  = \", max([len(data) for data in test_dataset]))\n",
        "print(\"valid = \", max([len(data) for data in valid_dataset]))\n",
        "\n",
        "print(\"\\nAvg Length:\")\n",
        "print(\"train = \", np.mean([len(data) for data in train_dataset]))\n",
        "print(\"test  = \", np.mean([len(data) for data in test_dataset]))\n",
        "print(\"valid = \", np.mean([len(data) for data in valid_dataset]))"
      ],
      "metadata": {
        "colab": {
          "base_uri": "https://localhost:8080/"
        },
        "id": "ShMT2eJRD6we",
        "outputId": "53b354d7-3eb3-48c3-e8bf-22462cb1e82c"
      },
      "execution_count": 6,
      "outputs": [
        {
          "output_type": "stream",
          "name": "stdout",
          "text": [
            "Max Length:\n",
            "train =  734\n",
            "test  =  734\n",
            "valid =  676\n",
            "\n",
            "Avg Length:\n",
            "train =  29.24276051743712\n",
            "test  =  29.4551559468736\n",
            "valid =  29.323931049921647\n"
          ]
        }
      ]
    },
    {
      "cell_type": "code",
      "source": [
        "plt.title(\"Number of Tokens per Data Status\")\n",
        "plt.xlabel(\"Number of Tokens per Data\")\n",
        "plt.ylabel(\"Frequency\")\n",
        "plt.hist([len(data) for data in train_dataset], color=\"orange\")\n",
        "plt.show()"
      ],
      "metadata": {
        "colab": {
          "base_uri": "https://localhost:8080/",
          "height": 295
        },
        "id": "SzmrjKj72sbD",
        "outputId": "ee984474-b60e-4ae0-e69d-7300494be142"
      },
      "execution_count": 7,
      "outputs": [
        {
          "output_type": "display_data",
          "data": {
            "text/plain": [
              "<Figure size 432x288 with 1 Axes>"
            ],
            "image/png": "[encoded data removed]"
          },
          "metadata": {
            "needs_background": "light"
          }
        }
      ]
    },
    {
      "cell_type": "code",
      "source": [
        "plt.title(\"Number of Tokens per Data Status\")\n",
        "plt.xlabel(\"Number of Tokens per Data\")\n",
        "plt.ylabel(\"Frequency\")\n",
        "plt.hist([min(len(data), 128) for data in train_dataset], color=\"orange\")\n",
        "plt.show()"
      ],
      "metadata": {
        "colab": {
          "base_uri": "https://localhost:8080/",
          "height": 295
        },
        "id": "7j31OND3CqJE",
        "outputId": "be711a93-2e2b-4348-dff3-5cf7d5ff30e5"
      },
      "execution_count": 8,
      "outputs": [
        {
          "output_type": "display_data",
          "data": {
            "text/plain": [
              "<Figure size 432x288 with 1 Axes>"
            ],
            "image/png": "[encoded data removed]"
          },
          "metadata": {
            "needs_background": "light"
          }
        }
      ]
    },
    {
      "cell_type": "code",
      "source": [
        "print(f\"Percent of Long-tail data = {sum([len(data)>64 for data in train_dataset]) * 100 / len(train_dataset)} %\")"
      ],
      "metadata": {
        "colab": {
          "base_uri": "https://localhost:8080/"
        },
        "id": "EyD0OsPrFOOc",
        "outputId": "bf8e2a9d-818c-4ce2-cc2f-89bab2a3c1b2"
      },
      "execution_count": 9,
      "outputs": [
        {
          "output_type": "stream",
          "name": "stdout",
          "text": [
            "Percent of Long-tail data = 4.362078063288508 %\n"
          ]
        }
      ]
    },
    {
      "cell_type": "markdown",
      "source": [
        "# Split Long Data"
      ],
      "metadata": {
        "id": "UWGLaDdXIO-b"
      }
    },
    {
      "cell_type": "code",
      "source": [
        "max_length = 64"
      ],
      "metadata": {
        "id": "QPWEt68kIlV6"
      },
      "execution_count": 10,
      "outputs": []
    },
    {
      "cell_type": "code",
      "source": [
        "def split_long_data(dataset, max_length):\n",
        "  new_dataset = []\n",
        "  for data in dataset:\n",
        "    number_new_data = math.ceil(len(data)/max_length)\n",
        "\n",
        "    for i in range(number_new_data):\n",
        "      new_dataset.append(data[i*max_length : min((i+1)*max_length, len(data))])\n",
        "\n",
        "  return new_dataset"
      ],
      "metadata": {
        "id": "kiPMTCizH96b"
      },
      "execution_count": 11,
      "outputs": []
    },
    {
      "cell_type": "code",
      "source": [
        "train_dataset = split_long_data(train_dataset, max_length)\n",
        "test_dataset = split_long_data(test_dataset, max_length)\n",
        "valid_dataset = split_long_data(valid_dataset, max_length)"
      ],
      "metadata": {
        "id": "emB2ZIKlI7ZK"
      },
      "execution_count": 12,
      "outputs": []
    },
    {
      "cell_type": "markdown",
      "source": [
        "# Tag to Index"
      ],
      "metadata": {
        "id": "sS9pFMXK46Uf"
      }
    },
    {
      "cell_type": "code",
      "source": [
        "all_tag = set()\n",
        "\n",
        "for data in train_dataset:\n",
        "  for item in data:\n",
        "    tag = item[1]\n",
        "    all_tag.add(tag)"
      ],
      "metadata": {
        "id": "CWfXV5kl3j5-"
      },
      "execution_count": 13,
      "outputs": []
    },
    {
      "cell_type": "code",
      "source": [
        "tag2index = {tag:i+1 for i, tag in enumerate(all_tag)}\n",
        "tag2index[\"PAD\"] = 0"
      ],
      "metadata": {
        "id": "N5T0jgnJ37GH"
      },
      "execution_count": 14,
      "outputs": []
    },
    {
      "cell_type": "markdown",
      "source": [
        "# Word to Vec "
      ],
      "metadata": {
        "id": "5GMrXdTo5tH3"
      }
    },
    {
      "cell_type": "code",
      "source": [
        "file = open(\"/content/vectors.txt\", \"r\")\n",
        "\n",
        "word2vector = {}\n",
        "\n",
        "for i, line in enumerate(file.readlines()):\n",
        "  line_splitted = line.split()\n",
        "  word = line_splitted[0]\n",
        "  vector = np.array(line_splitted[1:], dtype=\"float\")\n",
        "\n",
        "  word2vector[word] = vector"
      ],
      "metadata": {
        "id": "hCS0rJAs58Em"
      },
      "execution_count": 15,
      "outputs": []
    },
    {
      "cell_type": "code",
      "source": [
        "embedding_size = len(word2vector['#1'])"
      ],
      "metadata": {
        "id": "x0meOzaSnib4"
      },
      "execution_count": 16,
      "outputs": []
    },
    {
      "cell_type": "markdown",
      "source": [
        "# Digitalize & Padding"
      ],
      "metadata": {
        "id": "80cPNO8248a3"
      }
    },
    {
      "cell_type": "code",
      "source": [
        "def preprocess(dataset, max_length, embedding_size):\n",
        "  digitalized_dataset = []\n",
        "  dataset_X = []\n",
        "  dataset_y = []\n",
        "\n",
        "  for data in dataset:\n",
        "    dataset_X.append([])\n",
        "    dataset_y.append([])\n",
        "\n",
        "    for item in data:\n",
        "      vector = word2vector.get(item[0], np.zeros(embedding_size))\n",
        "      tag_index = tag2index[item[1]]\n",
        "      dataset_X[-1].append(vector)\n",
        "      dataset_y[-1].append(tag_index)\n",
        "\n",
        "    for _ in range(max_length-len(dataset_y[-1])):\n",
        "      dataset_y[-1].append(0)\n",
        "      dataset_X[-1].append(np.zeros(embedding_size))\n",
        "\n",
        "\n",
        "  dataset_X = np.array(dataset_X)\n",
        "  dataset_y = np.array(dataset_y)\n",
        "\n",
        "  return dataset_X, dataset_y"
      ],
      "metadata": {
        "id": "q7z9nP9_7jGu"
      },
      "execution_count": 17,
      "outputs": []
    },
    {
      "cell_type": "code",
      "source": [
        "train_X, train_y = preprocess(train_dataset, max_length, embedding_size)\n",
        "test_X, test_y = preprocess(test_dataset, max_length, embedding_size)\n",
        "valid_X, valid_y = preprocess(valid_dataset, max_length, embedding_size)"
      ],
      "metadata": {
        "id": "IPQ187Pg8PZ3"
      },
      "execution_count": 18,
      "outputs": []
    },
    {
      "cell_type": "code",
      "source": [
        "# train_X_new = np.array(train_X)\n",
        "# valid_X_new = np.array(valid_X)\n",
        "\n",
        "# train_y_new = np.array(train_y)\n",
        "# valid_y_new = np.array(valid_y)"
      ],
      "metadata": {
        "id": "Waqc51Rktplu"
      },
      "execution_count": 24,
      "outputs": []
    },
    {
      "cell_type": "markdown",
      "source": [
        "# Accuracy Metric"
      ],
      "metadata": {
        "id": "-DclRFeTO3xV"
      }
    },
    {
      "cell_type": "code",
      "source": [
        "def ignore_class_accuracy(to_ignore=0):\n",
        "   # Refrence: https://nlpforhackers.io/lstm-pos-tagger-keras/\n",
        "  \n",
        "  def ignore_accuracy(y_true, y_pred):\n",
        "    y_pred_class = backend.argmax(y_pred, axis=-1)\n",
        "    y_true_class = backend.argmax(y_true, axis=-1)\n",
        "    y_true_class = backend.cast(y_true, \"int64\")\n",
        "\n",
        "    ignore_mask = backend.cast(backend.not_equal(y_pred_class, to_ignore), 'int32')\n",
        "    matches = backend.cast(backend.equal(y_true_class, y_pred_class), 'int32') * ignore_mask\n",
        "    accuracy = backend.sum(matches) / backend.maximum(backend.sum(ignore_mask), 1)\n",
        "    return accuracy\n",
        "  \n",
        "  return ignore_accuracy"
      ],
      "metadata": {
        "id": "5DqfzUOT4nxK"
      },
      "execution_count": 21,
      "outputs": []
    },
    {
      "cell_type": "markdown",
      "source": [
        "# BiLSTM Model"
      ],
      "metadata": {
        "id": "SlzmI-LYNb15"
      }
    },
    {
      "cell_type": "code",
      "source": [
        "class BiLSTM(keras.Model):\n",
        "  def __init__(self, max_length, embedding_size, number_tags):\n",
        "    super().__init__()\n",
        "    self.model = Sequential([\n",
        "                             Input((max_length, embedding_size)),\n",
        "                             Bidirectional(LSTM(256, return_sequences=True)),\n",
        "                             TimeDistributed(Dense(number_tags+1, activation=\"softmax\"))\n",
        "    ])\n",
        "  \n",
        "  def call(self, inputs):\n",
        "    return self.model(inputs)"
      ],
      "metadata": {
        "id": "FbP71C-bAi9B"
      },
      "execution_count": 19,
      "outputs": []
    },
    {
      "cell_type": "code",
      "source": [
        "model = BiLSTM(max_length=max_length, embedding_size=embedding_size, number_tags=len(all_tag))"
      ],
      "metadata": {
        "id": "s250KwYGTe-P"
      },
      "execution_count": 20,
      "outputs": []
    },
    {
      "cell_type": "code",
      "source": [
        "model.compile(optimizer=\"adam\", loss=\"sparse_categorical_crossentropy\", metrics=[\"accuracy\", ignore_class_accuracy(0)])"
      ],
      "metadata": {
        "id": "bhqbTl7IQV14"
      },
      "execution_count": 22,
      "outputs": []
    },
    {
      "cell_type": "code",
      "source": [
        "es_callback = EarlyStopping(monitor=\"val_loss\", restore_best_weights=True, patience=2)"
      ],
      "metadata": {
        "id": "JUVqQ38ow_pn"
      },
      "execution_count": 23,
      "outputs": []
    },
    {
      "cell_type": "markdown",
      "source": [
        "# Training"
      ],
      "metadata": {
        "id": "MUoLdJ05PRaM"
      }
    },
    {
      "cell_type": "code",
      "source": [
        "model.fit(x=train_X_new, y=train_y_new, epochs=2, validation_data=(valid_X_new, valid_y_new), callbacks=[es_callback])"
      ],
      "metadata": {
        "colab": {
          "base_uri": "https://localhost:8080/",
          "height": 443
        },
        "id": "uuY5JOnNSiE4",
        "outputId": "3c5d39a1-0ea9-47be-eb43-899e702e74f9"
      },
      "execution_count": 25,
      "outputs": [
        {
          "output_type": "stream",
          "name": "stdout",
          "text": [
            "Epoch 1/10\n",
            "2054/2054 [==============================] - 895s 433ms/step - loss: 0.2656 - accuracy: 0.9218 - ignore_accuracy: 0.8269 - val_loss: 0.1484 - val_accuracy: 0.9554 - val_ignore_accuracy: 0.9001\n",
            "Epoch 2/10\n",
            "2054/2054 [==============================] - 889s 433ms/step - loss: 0.1262 - accuracy: 0.9623 - ignore_accuracy: 0.9152 - val_loss: 0.1075 - val_accuracy: 0.9676 - val_ignore_accuracy: 0.9277\n",
            "Epoch 3/10\n",
            " 630/2054 [========>.....................] - ETA: 9:37 - loss: 0.1043 - accuracy: 0.9687 - ignore_accuracy: 0.9294"
          ]
        },
        {
          "output_type": "error",
          "ename": "KeyboardInterrupt",
          "evalue": "ignored",
          "traceback": [
            "\u001b[0;31m---------------------------------------------------------------------------\u001b[0m",
            "\u001b[0;31mKeyboardInterrupt\u001b[0m                         Traceback (most recent call last)",
            "\u001b[0;32m<ipython-input-25-d625e8a30cff>\u001b[0m in \u001b[0;36m<module>\u001b[0;34m()\u001b[0m\n\u001b[0;32m----> 1\u001b[0;31m \u001b[0mmodel\u001b[0m\u001b[0;34m.\u001b[0m\u001b[0mfit\u001b[0m\u001b[0;34m(\u001b[0m\u001b[0mx\u001b[0m\u001b[0;34m=\u001b[0m\u001b[0mtrain_X_new\u001b[0m\u001b[0;34m,\u001b[0m \u001b[0my\u001b[0m\u001b[0;34m=\u001b[0m\u001b[0mtrain_y_new\u001b[0m\u001b[0;34m,\u001b[0m \u001b[0mepochs\u001b[0m\u001b[0;34m=\u001b[0m\u001b[0;36m10\u001b[0m\u001b[0;34m,\u001b[0m \u001b[0mvalidation_data\u001b[0m\u001b[0;34m=\u001b[0m\u001b[0;34m(\u001b[0m\u001b[0mvalid_X_new\u001b[0m\u001b[0;34m,\u001b[0m \u001b[0mvalid_y_new\u001b[0m\u001b[0;34m)\u001b[0m\u001b[0;34m,\u001b[0m \u001b[0mcallbacks\u001b[0m\u001b[0;34m=\u001b[0m\u001b[0;34m[\u001b[0m\u001b[0mes_callback\u001b[0m\u001b[0;34m]\u001b[0m\u001b[0;34m)\u001b[0m\u001b[0;34m\u001b[0m\u001b[0;34m\u001b[0m\u001b[0m\n\u001b[0m",
            "\u001b[0;32m/usr/local/lib/python3.7/dist-packages/keras/utils/traceback_utils.py\u001b[0m in \u001b[0;36merror_handler\u001b[0;34m(*args, **kwargs)\u001b[0m\n\u001b[1;32m     62\u001b[0m     \u001b[0mfiltered_tb\u001b[0m \u001b[0;34m=\u001b[0m \u001b[0;32mNone\u001b[0m\u001b[0;34m\u001b[0m\u001b[0;34m\u001b[0m\u001b[0m\n\u001b[1;32m     63\u001b[0m     \u001b[0;32mtry\u001b[0m\u001b[0;34m:\u001b[0m\u001b[0;34m\u001b[0m\u001b[0;34m\u001b[0m\u001b[0m\n\u001b[0;32m---> 64\u001b[0;31m       \u001b[0;32mreturn\u001b[0m \u001b[0mfn\u001b[0m\u001b[0;34m(\u001b[0m\u001b[0;34m*\u001b[0m\u001b[0margs\u001b[0m\u001b[0;34m,\u001b[0m \u001b[0;34m**\u001b[0m\u001b[0mkwargs\u001b[0m\u001b[0;34m)\u001b[0m\u001b[0;34m\u001b[0m\u001b[0;34m\u001b[0m\u001b[0m\n\u001b[0m\u001b[1;32m     65\u001b[0m     \u001b[0;32mexcept\u001b[0m \u001b[0mException\u001b[0m \u001b[0;32mas\u001b[0m \u001b[0me\u001b[0m\u001b[0;34m:\u001b[0m  \u001b[0;31m# pylint: disable=broad-except\u001b[0m\u001b[0;34m\u001b[0m\u001b[0;34m\u001b[0m\u001b[0m\n\u001b[1;32m     66\u001b[0m       \u001b[0mfiltered_tb\u001b[0m \u001b[0;34m=\u001b[0m \u001b[0m_process_traceback_frames\u001b[0m\u001b[0;34m(\u001b[0m\u001b[0me\u001b[0m\u001b[0;34m.\u001b[0m\u001b[0m__traceback__\u001b[0m\u001b[0;34m)\u001b[0m\u001b[0;34m\u001b[0m\u001b[0;34m\u001b[0m\u001b[0m\n",
            "\u001b[0;32m/usr/local/lib/python3.7/dist-packages/keras/engine/training.py\u001b[0m in \u001b[0;36mfit\u001b[0;34m(self, x, y, batch_size, epochs, verbose, callbacks, validation_split, validation_data, shuffle, class_weight, sample_weight, initial_epoch, steps_per_epoch, validation_steps, validation_batch_size, validation_freq, max_queue_size, workers, use_multiprocessing)\u001b[0m\n\u001b[1;32m   1382\u001b[0m                 _r=1):\n\u001b[1;32m   1383\u001b[0m               \u001b[0mcallbacks\u001b[0m\u001b[0;34m.\u001b[0m\u001b[0mon_train_batch_begin\u001b[0m\u001b[0;34m(\u001b[0m\u001b[0mstep\u001b[0m\u001b[0;34m)\u001b[0m\u001b[0;34m\u001b[0m\u001b[0;34m\u001b[0m\u001b[0m\n\u001b[0;32m-> 1384\u001b[0;31m               \u001b[0mtmp_logs\u001b[0m \u001b[0;34m=\u001b[0m \u001b[0mself\u001b[0m\u001b[0;34m.\u001b[0m\u001b[0mtrain_function\u001b[0m\u001b[0;34m(\u001b[0m\u001b[0miterator\u001b[0m\u001b[0;34m)\u001b[0m\u001b[0;34m\u001b[0m\u001b[0;34m\u001b[0m\u001b[0m\n\u001b[0m\u001b[1;32m   1385\u001b[0m               \u001b[0;32mif\u001b[0m \u001b[0mdata_handler\u001b[0m\u001b[0;34m.\u001b[0m\u001b[0mshould_sync\u001b[0m\u001b[0;34m:\u001b[0m\u001b[0;34m\u001b[0m\u001b[0;34m\u001b[0m\u001b[0m\n\u001b[1;32m   1386\u001b[0m                 \u001b[0mcontext\u001b[0m\u001b[0;34m.\u001b[0m\u001b[0masync_wait\u001b[0m\u001b[0;34m(\u001b[0m\u001b[0;34m)\u001b[0m\u001b[0;34m\u001b[0m\u001b[0;34m\u001b[0m\u001b[0m\n",
            "\u001b[0;32m/usr/local/lib/python3.7/dist-packages/tensorflow/python/util/traceback_utils.py\u001b[0m in \u001b[0;36merror_handler\u001b[0;34m(*args, **kwargs)\u001b[0m\n\u001b[1;32m    148\u001b[0m     \u001b[0mfiltered_tb\u001b[0m \u001b[0;34m=\u001b[0m \u001b[0;32mNone\u001b[0m\u001b[0;34m\u001b[0m\u001b[0;34m\u001b[0m\u001b[0m\n\u001b[1;32m    149\u001b[0m     \u001b[0;32mtry\u001b[0m\u001b[0;34m:\u001b[0m\u001b[0;34m\u001b[0m\u001b[0;34m\u001b[0m\u001b[0m\n\u001b[0;32m--> 150\u001b[0;31m       \u001b[0;32mreturn\u001b[0m \u001b[0mfn\u001b[0m\u001b[0;34m(\u001b[0m\u001b[0;34m*\u001b[0m\u001b[0margs\u001b[0m\u001b[0;34m,\u001b[0m \u001b[0;34m**\u001b[0m\u001b[0mkwargs\u001b[0m\u001b[0;34m)\u001b[0m\u001b[0;34m\u001b[0m\u001b[0;34m\u001b[0m\u001b[0m\n\u001b[0m\u001b[1;32m    151\u001b[0m     \u001b[0;32mexcept\u001b[0m \u001b[0mException\u001b[0m \u001b[0;32mas\u001b[0m \u001b[0me\u001b[0m\u001b[0;34m:\u001b[0m\u001b[0;34m\u001b[0m\u001b[0;34m\u001b[0m\u001b[0m\n\u001b[1;32m    152\u001b[0m       \u001b[0mfiltered_tb\u001b[0m \u001b[0;34m=\u001b[0m \u001b[0m_process_traceback_frames\u001b[0m\u001b[0;34m(\u001b[0m\u001b[0me\u001b[0m\u001b[0;34m.\u001b[0m\u001b[0m__traceback__\u001b[0m\u001b[0;34m)\u001b[0m\u001b[0;34m\u001b[0m\u001b[0;34m\u001b[0m\u001b[0m\n",
            "\u001b[0;32m/usr/local/lib/python3.7/dist-packages/tensorflow/python/eager/def_function.py\u001b[0m in \u001b[0;36m__call__\u001b[0;34m(self, *args, **kwds)\u001b[0m\n\u001b[1;32m    913\u001b[0m \u001b[0;34m\u001b[0m\u001b[0m\n\u001b[1;32m    914\u001b[0m       \u001b[0;32mwith\u001b[0m \u001b[0mOptionalXlaContext\u001b[0m\u001b[0;34m(\u001b[0m\u001b[0mself\u001b[0m\u001b[0;34m.\u001b[0m\u001b[0m_jit_compile\u001b[0m\u001b[0;34m)\u001b[0m\u001b[0;34m:\u001b[0m\u001b[0;34m\u001b[0m\u001b[0;34m\u001b[0m\u001b[0m\n\u001b[0;32m--> 915\u001b[0;31m         \u001b[0mresult\u001b[0m \u001b[0;34m=\u001b[0m \u001b[0mself\u001b[0m\u001b[0;34m.\u001b[0m\u001b[0m_call\u001b[0m\u001b[0;34m(\u001b[0m\u001b[0;34m*\u001b[0m\u001b[0margs\u001b[0m\u001b[0;34m,\u001b[0m \u001b[0;34m**\u001b[0m\u001b[0mkwds\u001b[0m\u001b[0;34m)\u001b[0m\u001b[0;34m\u001b[0m\u001b[0;34m\u001b[0m\u001b[0m\n\u001b[0m\u001b[1;32m    916\u001b[0m \u001b[0;34m\u001b[0m\u001b[0m\n\u001b[1;32m    917\u001b[0m       \u001b[0mnew_tracing_count\u001b[0m \u001b[0;34m=\u001b[0m \u001b[0mself\u001b[0m\u001b[0;34m.\u001b[0m\u001b[0mexperimental_get_tracing_count\u001b[0m\u001b[0;34m(\u001b[0m\u001b[0;34m)\u001b[0m\u001b[0;34m\u001b[0m\u001b[0;34m\u001b[0m\u001b[0m\n",
            "\u001b[0;32m/usr/local/lib/python3.7/dist-packages/tensorflow/python/eager/def_function.py\u001b[0m in \u001b[0;36m_call\u001b[0;34m(self, *args, **kwds)\u001b[0m\n\u001b[1;32m    945\u001b[0m       \u001b[0;31m# In this case we have created variables on the first call, so we run the\u001b[0m\u001b[0;34m\u001b[0m\u001b[0;34m\u001b[0m\u001b[0;34m\u001b[0m\u001b[0m\n\u001b[1;32m    946\u001b[0m       \u001b[0;31m# defunned version which is guaranteed to never create variables.\u001b[0m\u001b[0;34m\u001b[0m\u001b[0;34m\u001b[0m\u001b[0;34m\u001b[0m\u001b[0m\n\u001b[0;32m--> 947\u001b[0;31m       \u001b[0;32mreturn\u001b[0m \u001b[0mself\u001b[0m\u001b[0;34m.\u001b[0m\u001b[0m_stateless_fn\u001b[0m\u001b[0;34m(\u001b[0m\u001b[0;34m*\u001b[0m\u001b[0margs\u001b[0m\u001b[0;34m,\u001b[0m \u001b[0;34m**\u001b[0m\u001b[0mkwds\u001b[0m\u001b[0;34m)\u001b[0m  \u001b[0;31m# pylint: disable=not-callable\u001b[0m\u001b[0;34m\u001b[0m\u001b[0;34m\u001b[0m\u001b[0m\n\u001b[0m\u001b[1;32m    948\u001b[0m     \u001b[0;32melif\u001b[0m \u001b[0mself\u001b[0m\u001b[0;34m.\u001b[0m\u001b[0m_stateful_fn\u001b[0m \u001b[0;32mis\u001b[0m \u001b[0;32mnot\u001b[0m \u001b[0;32mNone\u001b[0m\u001b[0;34m:\u001b[0m\u001b[0;34m\u001b[0m\u001b[0;34m\u001b[0m\u001b[0m\n\u001b[1;32m    949\u001b[0m       \u001b[0;31m# Release the lock early so that multiple threads can perform the call\u001b[0m\u001b[0;34m\u001b[0m\u001b[0;34m\u001b[0m\u001b[0;34m\u001b[0m\u001b[0m\n",
            "\u001b[0;32m/usr/local/lib/python3.7/dist-packages/tensorflow/python/eager/function.py\u001b[0m in \u001b[0;36m__call__\u001b[0;34m(self, *args, **kwargs)\u001b[0m\n\u001b[1;32m   2955\u001b[0m        filtered_flat_args) = self._maybe_define_function(args, kwargs)\n\u001b[1;32m   2956\u001b[0m     return graph_function._call_flat(\n\u001b[0;32m-> 2957\u001b[0;31m         filtered_flat_args, captured_inputs=graph_function.captured_inputs)  # pylint: disable=protected-access\n\u001b[0m\u001b[1;32m   2958\u001b[0m \u001b[0;34m\u001b[0m\u001b[0m\n\u001b[1;32m   2959\u001b[0m   \u001b[0;34m@\u001b[0m\u001b[0mproperty\u001b[0m\u001b[0;34m\u001b[0m\u001b[0;34m\u001b[0m\u001b[0m\n",
            "\u001b[0;32m/usr/local/lib/python3.7/dist-packages/tensorflow/python/eager/function.py\u001b[0m in \u001b[0;36m_call_flat\u001b[0;34m(self, args, captured_inputs, cancellation_manager)\u001b[0m\n\u001b[1;32m   1852\u001b[0m       \u001b[0;31m# No tape is watching; skip to running the function.\u001b[0m\u001b[0;34m\u001b[0m\u001b[0;34m\u001b[0m\u001b[0;34m\u001b[0m\u001b[0m\n\u001b[1;32m   1853\u001b[0m       return self._build_call_outputs(self._inference_function.call(\n\u001b[0;32m-> 1854\u001b[0;31m           ctx, args, cancellation_manager=cancellation_manager))\n\u001b[0m\u001b[1;32m   1855\u001b[0m     forward_backward = self._select_forward_and_backward_functions(\n\u001b[1;32m   1856\u001b[0m         \u001b[0margs\u001b[0m\u001b[0;34m,\u001b[0m\u001b[0;34m\u001b[0m\u001b[0;34m\u001b[0m\u001b[0m\n",
            "\u001b[0;32m/usr/local/lib/python3.7/dist-packages/tensorflow/python/eager/function.py\u001b[0m in \u001b[0;36mcall\u001b[0;34m(self, ctx, args, cancellation_manager)\u001b[0m\n\u001b[1;32m    502\u001b[0m               \u001b[0minputs\u001b[0m\u001b[0;34m=\u001b[0m\u001b[0margs\u001b[0m\u001b[0;34m,\u001b[0m\u001b[0;34m\u001b[0m\u001b[0;34m\u001b[0m\u001b[0m\n\u001b[1;32m    503\u001b[0m               \u001b[0mattrs\u001b[0m\u001b[0;34m=\u001b[0m\u001b[0mattrs\u001b[0m\u001b[0;34m,\u001b[0m\u001b[0;34m\u001b[0m\u001b[0;34m\u001b[0m\u001b[0m\n\u001b[0;32m--> 504\u001b[0;31m               ctx=ctx)\n\u001b[0m\u001b[1;32m    505\u001b[0m         \u001b[0;32melse\u001b[0m\u001b[0;34m:\u001b[0m\u001b[0;34m\u001b[0m\u001b[0;34m\u001b[0m\u001b[0m\n\u001b[1;32m    506\u001b[0m           outputs = execute.execute_with_cancellation(\n",
            "\u001b[0;32m/usr/local/lib/python3.7/dist-packages/tensorflow/python/eager/execute.py\u001b[0m in \u001b[0;36mquick_execute\u001b[0;34m(op_name, num_outputs, inputs, attrs, ctx, name)\u001b[0m\n\u001b[1;32m     53\u001b[0m     \u001b[0mctx\u001b[0m\u001b[0;34m.\u001b[0m\u001b[0mensure_initialized\u001b[0m\u001b[0;34m(\u001b[0m\u001b[0;34m)\u001b[0m\u001b[0;34m\u001b[0m\u001b[0;34m\u001b[0m\u001b[0m\n\u001b[1;32m     54\u001b[0m     tensors = pywrap_tfe.TFE_Py_Execute(ctx._handle, device_name, op_name,\n\u001b[0;32m---> 55\u001b[0;31m                                         inputs, attrs, num_outputs)\n\u001b[0m\u001b[1;32m     56\u001b[0m   \u001b[0;32mexcept\u001b[0m \u001b[0mcore\u001b[0m\u001b[0;34m.\u001b[0m\u001b[0m_NotOkStatusException\u001b[0m \u001b[0;32mas\u001b[0m \u001b[0me\u001b[0m\u001b[0;34m:\u001b[0m\u001b[0;34m\u001b[0m\u001b[0;34m\u001b[0m\u001b[0m\n\u001b[1;32m     57\u001b[0m     \u001b[0;32mif\u001b[0m \u001b[0mname\u001b[0m \u001b[0;32mis\u001b[0m \u001b[0;32mnot\u001b[0m \u001b[0;32mNone\u001b[0m\u001b[0;34m:\u001b[0m\u001b[0;34m\u001b[0m\u001b[0;34m\u001b[0m\u001b[0m\n",
            "\u001b[0;31mKeyboardInterrupt\u001b[0m: "
          ]
        }
      ]
    },
    {
      "cell_type": "markdown",
      "source": [
        "# Evalluation & Report"
      ],
      "metadata": {
        "id": "-f3MT0uHPTqt"
      }
    },
    {
      "cell_type": "code",
      "source": [
        "model.history.history"
      ],
      "metadata": {
        "colab": {
          "base_uri": "https://localhost:8080/"
        },
        "id": "jKpN0-0wF4Ku",
        "outputId": "0d2a16ae-51e9-4444-fe6a-71749e9c927b"
      },
      "execution_count": 33,
      "outputs": [
        {
          "output_type": "execute_result",
          "data": {
            "text/plain": [
              "{'accuracy': [0.9217712879180908, 0.9622684717178345],\n",
              " 'ignore_accuracy': [0.826913058757782, 0.9151583313941956],\n",
              " 'loss': [0.2656027376651764, 0.12620720267295837],\n",
              " 'val_accuracy': [0.9554018378257751, 0.9675694108009338],\n",
              " 'val_ignore_accuracy': [0.9001404643058777, 0.9276533126831055],\n",
              " 'val_loss': [0.14837242662906647, 0.10746772587299347]}"
            ]
          },
          "metadata": {},
          "execution_count": 33
        }
      ]
    },
    {
      "cell_type": "code",
      "source": [
        "model.histoty."
      ],
      "metadata": {
        "colab": {
          "base_uri": "https://localhost:8080/",
          "height": 168
        },
        "id": "N7Uuyi52RjLK",
        "outputId": "bb7e9d8f-8502-424b-b17c-abb7bc0e9de0"
      },
      "execution_count": 32,
      "outputs": [
        {
          "output_type": "error",
          "ename": "AttributeError",
          "evalue": "ignored",
          "traceback": [
            "\u001b[0;31m---------------------------------------------------------------------------\u001b[0m",
            "\u001b[0;31mAttributeError\u001b[0m                            Traceback (most recent call last)",
            "\u001b[0;32m<ipython-input-32-d9c38e27cb72>\u001b[0m in \u001b[0;36m<module>\u001b[0;34m()\u001b[0m\n\u001b[0;32m----> 1\u001b[0;31m \u001b[0mmodel\u001b[0m\u001b[0;34m.\u001b[0m\u001b[0mhistoty\u001b[0m\u001b[0;34m.\u001b[0m\u001b[0mhistoty\u001b[0m\u001b[0;34m\u001b[0m\u001b[0;34m\u001b[0m\u001b[0m\n\u001b[0m",
            "\u001b[0;31mAttributeError\u001b[0m: 'BiLSTM' object has no attribute 'histoty'"
          ]
        }
      ]
    },
    {
      "cell_type": "code",
      "source": [
        "plt.title(\"Loss Per Epochs\")\n",
        "plt.xlabel(\"Epoch\")\n",
        "plt.ylabel(\"Loss\")\n",
        "\n",
        "train_loss_list = model.history.history[\"loss\"]\n",
        "valid_loss_list = model.history.history[\"val_loss\"]\n",
        "\n",
        "epochs = range(1, len(train_loss_list)+1)\n",
        "\n",
        "plt.scatter(epochs, train_loss_list, label=\"Train Loss\", color=\"green\")\n",
        "plt.scatter(epochs, valid_loss_list, label=\"Valid Loss\", color=\"red\")\n",
        "\n",
        "plt.plot(epochs, train_loss_list, color=\"green\")\n",
        "plt.plot(epochs, valid_loss_list, color=\"red\")\n",
        "\n",
        "plt.legend()\n",
        "\n",
        "plt.show()"
      ],
      "metadata": {
        "colab": {
          "base_uri": "https://localhost:8080/",
          "height": 295
        },
        "id": "r1_qK25sOSc9",
        "outputId": "2e13e260-bc94-40fd-e899-659104f48cd8"
      },
      "execution_count": 45,
      "outputs": [
        {
          "output_type": "display_data",
          "data": {
            "text/plain": [
              "<Figure size 432x288 with 1 Axes>"
            ],
            "image/png": "[encoded data removed]"
          },
          "metadata": {
            "needs_background": "light"
          }
        }
      ]
    },
    {
      "cell_type": "code",
      "source": [
        "plt.title(\"Accuracy Per Epochs\")\n",
        "plt.xlabel(\"Epoch\")\n",
        "plt.ylabel(\"Accuracy\")\n",
        "\n",
        "train_accuracy_list = model.history.history[\"ignore_accuracy\"]\n",
        "valid_accuracy_list = model.history.history[\"val_ignore_accuracy\"]\n",
        "\n",
        "epochs = range(1, len(train_accuracy_list)+1)\n",
        "\n",
        "plt.scatter(epochs, train_accuracy_list, label=\"Train Accuracy\", color=\"green\")\n",
        "plt.scatter(epochs, valid_accuracy_list, label=\"Valid Accuracy\", color=\"red\")\n",
        "\n",
        "plt.plot(epochs, train_accuracy_list, color=\"green\")\n",
        "plt.plot(epochs, valid_accuracy_list, color=\"red\")\n",
        "\n",
        "plt.legend()\n",
        "\n",
        "plt.show()"
      ],
      "metadata": {
        "colab": {
          "base_uri": "https://localhost:8080/",
          "height": 295
        },
        "id": "ELpQJO18RHkD",
        "outputId": "b136a389-2d2e-4570-c028-7e1c5532fd33"
      },
      "execution_count": 46,
      "outputs": [
        {
          "output_type": "display_data",
          "data": {
            "text/plain": [
              "<Figure size 432x288 with 1 Axes>"
            ],
            "image/png": "[encoded data removed]"
          },
          "metadata": {
            "needs_background": "light"
          }
        }
      ]
    },
    {
      "cell_type": "code",
      "source": [
        ""
      ],
      "metadata": {
        "id": "8qBI9lOBS5tC"
      },
      "execution_count": null,
      "outputs": []
    }
  ]
}