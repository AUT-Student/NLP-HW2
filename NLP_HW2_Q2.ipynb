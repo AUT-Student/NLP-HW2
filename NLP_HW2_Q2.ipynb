{
  "nbformat": 4,
  "nbformat_minor": 0,
  "metadata": {
    "colab": {
      "name": "NLP_HW2_Q2.ipynb",
      "provenance": [],
      "authorship_tag": "ABX9TyMj6+/VvDPjdQgpA8XyjvQ8",
      "include_colab_link": true
    },
    "kernelspec": {
      "name": "python3",
      "display_name": "Python 3"
    },
    "language_info": {
      "name": "python"
    }
  },
  "cells": [
    {
      "cell_type": "markdown",
      "metadata": {
        "id": "view-in-github",
        "colab_type": "text"
      },
      "source": [
        "<a href=\"https://colab.research.google.com/github/AUT-Student/NLP-HW2/blob/main/NLP_HW2_Q2.ipynb\" target=\"_parent\"><img src=\"https://colab.research.google.com/assets/colab-badge.svg\" alt=\"Open In Colab\"/></a>"
      ]
    },
    {
      "cell_type": "markdown",
      "source": [
        "# Libraries"
      ],
      "metadata": {
        "id": "Vs2_-yJhgbwd"
      }
    },
    {
      "cell_type": "code",
      "execution_count": null,
      "metadata": {
        "id": "eHo6mTl5gWxJ"
      },
      "outputs": [],
      "source": [
        "import pandas as pd\n",
        "import numpy as np\n",
        "import tensorflow as tf\n",
        "from tensorflow import keras"
      ]
    },
    {
      "cell_type": "markdown",
      "source": [
        "# Dataset"
      ],
      "metadata": {
        "id": "HUG_NjqlgecV"
      }
    },
    {
      "cell_type": "code",
      "source": [
        "!gdown 1Px1lQhMgkdeFigxwmqvk1ojJPZpq40u5\n",
        "!gdown 1WHbpY1Ydqq7yqtQ2YFavR78zsD7nDwbg\n",
        "!gdown 1pMJQk75R3898sUzFKUMQTPPE_QlllvAY\n",
        "!gdown 1NMesvM67oiJ6-PpSbtErFanj0JMl_Z50"
      ],
      "metadata": {
        "colab": {
          "base_uri": "https://localhost:8080/"
        },
        "id": "m8Dy1Twogfcc",
        "outputId": "e95206ce-95d9-43df-af75-37ada1c5f1c3"
      },
      "execution_count": null,
      "outputs": [
        {
          "output_type": "stream",
          "name": "stdout",
          "text": [
            "Downloading...\n",
            "From: https://drive.google.com/uc?id=1Px1lQhMgkdeFigxwmqvk1ojJPZpq40u5\n",
            "To: /content/UPC_2016_train.txt\n",
            "100% 25.4M/25.4M [00:00<00:00, 177MB/s]\n",
            "Downloading...\n",
            "From: https://drive.google.com/uc?id=1WHbpY1Ydqq7yqtQ2YFavR78zsD7nDwbg\n",
            "To: /content/UPC_2016_val.txt\n",
            "100% 5.47M/5.47M [00:00<00:00, 188MB/s]\n",
            "Downloading...\n",
            "From: https://drive.google.com/uc?id=1pMJQk75R3898sUzFKUMQTPPE_QlllvAY\n",
            "To: /content/UPC_2016_test.txt\n",
            "100% 5.48M/5.48M [00:00<00:00, 218MB/s]\n",
            "Downloading...\n",
            "From: https://drive.google.com/uc?id=1NMesvM67oiJ6-PpSbtErFanj0JMl_Z50\n",
            "To: /content/vectors.zip\n",
            "100% 48.2M/48.2M [00:00<00:00, 73.5MB/s]\n"
          ]
        }
      ]
    },
    {
      "cell_type": "code",
      "source": [
        "!unzip /content/vectors.zip"
      ],
      "metadata": {
        "colab": {
          "base_uri": "https://localhost:8080/"
        },
        "id": "LRS_p2k5hROb",
        "outputId": "23282785-f0ce-4527-9e22-2b171ea53138"
      },
      "execution_count": null,
      "outputs": [
        {
          "output_type": "stream",
          "name": "stdout",
          "text": [
            "Archive:  /content/vectors.zip\n",
            "  inflating: vectors.txt             \n"
          ]
        }
      ]
    },
    {
      "cell_type": "code",
      "source": [
        "def read_dataset(filepath):\n",
        "  file = open(filepath, \"r\")\n",
        "\n",
        "  dataset = [[]]\n",
        "\n",
        "  item_counter = 0\n",
        "  end_line = False\n",
        "  for line in file.readlines():\n",
        "    line_splitted = line.split()\n",
        "    if len(line_splitted) == 2:  \n",
        "      token, tag = line_splitted\n",
        "      \n",
        "      dataset[-1].append((token, tag))\n",
        "    else:\n",
        "      dataset.append([])\n",
        "      item_counter += 1\n",
        "\n",
        "  return dataset[:-1]"
      ],
      "metadata": {
        "id": "xMzhvV52pV21"
      },
      "execution_count": 76,
      "outputs": []
    },
    {
      "cell_type": "code",
      "source": [
        "train_dataset = read_dataset(\"/content/UPC_2016_train.txt\")\n",
        "valid_dataset = read_dataset(\"/content/UPC_2016_val.txt\")\n",
        "test_dataset = read_dataset(\"/content/UPC_2016_test.txt\")"
      ],
      "metadata": {
        "id": "u-yV0N7SqKj6"
      },
      "execution_count": 80,
      "outputs": []
    },
    {
      "cell_type": "markdown",
      "source": [
        "# BiLSTM"
      ],
      "metadata": {
        "id": "pFMCXx0Zh0Di"
      }
    },
    {
      "cell_type": "code",
      "source": [
        "!head \"/content/UPC_2016_val.txt\""
      ],
      "metadata": {
        "colab": {
          "base_uri": "https://localhost:8080/"
        },
        "id": "kdgqxqP7pRHo",
        "outputId": "3a6d5c28-131b-418f-8bb1-8eef4cb08e11"
      },
      "execution_count": null,
      "outputs": [
        {
          "output_type": "stream",
          "name": "stdout",
          "text": [
            "این\tPRO\n",
            "را\tCLITIC\n",
            "هم\tCON\n",
            "بگویم\tV_SUB\n",
            "که\tCON\n",
            "در\tP\n",
            "یک\tNUM\n",
            "قسمت\tN_SING\n",
            "سریال\tN_SING\n",
            "،\tDELM\n"
          ]
        }
      ]
    },
    {
      "cell_type": "code",
      "source": [
        "file = open(\"/content/UPC_2016_train.txt\")"
      ],
      "metadata": {
        "id": "6yKexX-zo-pE"
      },
      "execution_count": null,
      "outputs": []
    },
    {
      "cell_type": "code",
      "source": [
        "pd.read_csv(\"/content/UPC_2016_train.txt\", delimiter=\"\\t\", header=None, names=[\"Token\", \"POS-Tag\"]).head(20)"
      ],
      "metadata": {
        "colab": {
          "base_uri": "https://localhost:8080/",
          "height": 676
        },
        "id": "BX3dFuNioGyk",
        "outputId": "ea0bae1f-9f0b-40f8-dfec-2cc76367c964"
      },
      "execution_count": null,
      "outputs": [
        {
          "output_type": "execute_result",
          "data": {
            "text/plain": [
              "           Token  POS-Tag\n",
              "0              #     DELM\n",
              "1             ۳۹      NUM\n",
              "2           درصد   N_SING\n",
              "3             از        P\n",
              "4       دندانهای     N_PL\n",
              "5    دانش‌آموزان     N_PL\n",
              "6         پوسیده     V_PP\n",
              "7            است    V_PRS\n",
              "8             که      CON\n",
              "9            یکی      PRO\n",
              "10            از        P\n",
              "11       مهمترین  ADJ_SUP\n",
              "12         دلایل     N_PL\n",
              "13            آن      PRO\n",
              "14         کمبود   N_SING\n",
              "15       فلوراید   N_SING\n",
              "16           است    V_PRS\n",
              "17             .     DELM\n",
              "18  زمین‌لرزه‌ای   N_SING\n",
              "19            به        P"
            ],
            "text/html": [
              "\n",
              "  <div id=\"df-b4570639-7f10-4860-8997-a46149a5c065\">\n",
              "    <div class=\"colab-df-container\">\n",
              "      <div>\n",
              "<style scoped>\n",
              "    .dataframe tbody tr th:only-of-type {\n",
              "        vertical-align: middle;\n",
              "    }\n",
              "\n",
              "    .dataframe tbody tr th {\n",
              "        vertical-align: top;\n",
              "    }\n",
              "\n",
              "    .dataframe thead th {\n",
              "        text-align: right;\n",
              "    }\n",
              "</style>\n",
              "<table border=\"1\" class=\"dataframe\">\n",
              "  <thead>\n",
              "    <tr style=\"text-align: right;\">\n",
              "      <th></th>\n",
              "      <th>Token</th>\n",
              "      <th>POS-Tag</th>\n",
              "    </tr>\n",
              "  </thead>\n",
              "  <tbody>\n",
              "    <tr>\n",
              "      <th>0</th>\n",
              "      <td>#</td>\n",
              "      <td>DELM</td>\n",
              "    </tr>\n",
              "    <tr>\n",
              "      <th>1</th>\n",
              "      <td>۳۹</td>\n",
              "      <td>NUM</td>\n",
              "    </tr>\n",
              "    <tr>\n",
              "      <th>2</th>\n",
              "      <td>درصد</td>\n",
              "      <td>N_SING</td>\n",
              "    </tr>\n",
              "    <tr>\n",
              "      <th>3</th>\n",
              "      <td>از</td>\n",
              "      <td>P</td>\n",
              "    </tr>\n",
              "    <tr>\n",
              "      <th>4</th>\n",
              "      <td>دندانهای</td>\n",
              "      <td>N_PL</td>\n",
              "    </tr>\n",
              "    <tr>\n",
              "      <th>5</th>\n",
              "      <td>دانش‌آموزان</td>\n",
              "      <td>N_PL</td>\n",
              "    </tr>\n",
              "    <tr>\n",
              "      <th>6</th>\n",
              "      <td>پوسیده</td>\n",
              "      <td>V_PP</td>\n",
              "    </tr>\n",
              "    <tr>\n",
              "      <th>7</th>\n",
              "      <td>است</td>\n",
              "      <td>V_PRS</td>\n",
              "    </tr>\n",
              "    <tr>\n",
              "      <th>8</th>\n",
              "      <td>که</td>\n",
              "      <td>CON</td>\n",
              "    </tr>\n",
              "    <tr>\n",
              "      <th>9</th>\n",
              "      <td>یکی</td>\n",
              "      <td>PRO</td>\n",
              "    </tr>\n",
              "    <tr>\n",
              "      <th>10</th>\n",
              "      <td>از</td>\n",
              "      <td>P</td>\n",
              "    </tr>\n",
              "    <tr>\n",
              "      <th>11</th>\n",
              "      <td>مهمترین</td>\n",
              "      <td>ADJ_SUP</td>\n",
              "    </tr>\n",
              "    <tr>\n",
              "      <th>12</th>\n",
              "      <td>دلایل</td>\n",
              "      <td>N_PL</td>\n",
              "    </tr>\n",
              "    <tr>\n",
              "      <th>13</th>\n",
              "      <td>آن</td>\n",
              "      <td>PRO</td>\n",
              "    </tr>\n",
              "    <tr>\n",
              "      <th>14</th>\n",
              "      <td>کمبود</td>\n",
              "      <td>N_SING</td>\n",
              "    </tr>\n",
              "    <tr>\n",
              "      <th>15</th>\n",
              "      <td>فلوراید</td>\n",
              "      <td>N_SING</td>\n",
              "    </tr>\n",
              "    <tr>\n",
              "      <th>16</th>\n",
              "      <td>است</td>\n",
              "      <td>V_PRS</td>\n",
              "    </tr>\n",
              "    <tr>\n",
              "      <th>17</th>\n",
              "      <td>.</td>\n",
              "      <td>DELM</td>\n",
              "    </tr>\n",
              "    <tr>\n",
              "      <th>18</th>\n",
              "      <td>زمین‌لرزه‌ای</td>\n",
              "      <td>N_SING</td>\n",
              "    </tr>\n",
              "    <tr>\n",
              "      <th>19</th>\n",
              "      <td>به</td>\n",
              "      <td>P</td>\n",
              "    </tr>\n",
              "  </tbody>\n",
              "</table>\n",
              "</div>\n",
              "      <button class=\"colab-df-convert\" onclick=\"convertToInteractive('df-b4570639-7f10-4860-8997-a46149a5c065')\"\n",
              "              title=\"Convert this dataframe to an interactive table.\"\n",
              "              style=\"display:none;\">\n",
              "        \n",
              "  <svg xmlns=\"http://www.w3.org/2000/svg\" height=\"24px\"viewBox=\"0 0 24 24\"\n",
              "       width=\"24px\">\n",
              "    <path d=\"M0 0h24v24H0V0z\" fill=\"none\"/>\n",
              "    <path d=\"M18.56 5.44l.94 2.06.94-2.06 2.06-.94-2.06-.94-.94-2.06-.94 2.06-2.06.94zm-11 1L8.5 8.5l.94-2.06 2.06-.94-2.06-.94L8.5 2.5l-.94 2.06-2.06.94zm10 10l.94 2.06.94-2.06 2.06-.94-2.06-.94-.94-2.06-.94 2.06-2.06.94z\"/><path d=\"M17.41 7.96l-1.37-1.37c-.4-.4-.92-.59-1.43-.59-.52 0-1.04.2-1.43.59L10.3 9.45l-7.72 7.72c-.78.78-.78 2.05 0 2.83L4 21.41c.39.39.9.59 1.41.59.51 0 1.02-.2 1.41-.59l7.78-7.78 2.81-2.81c.8-.78.8-2.07 0-2.86zM5.41 20L4 18.59l7.72-7.72 1.47 1.35L5.41 20z\"/>\n",
              "  </svg>\n",
              "      </button>\n",
              "      \n",
              "  <style>\n",
              "    .colab-df-container {\n",
              "      display:flex;\n",
              "      flex-wrap:wrap;\n",
              "      gap: 12px;\n",
              "    }\n",
              "\n",
              "    .colab-df-convert {\n",
              "      background-color: #E8F0FE;\n",
              "      border: none;\n",
              "      border-radius: 50%;\n",
              "      cursor: pointer;\n",
              "      display: none;\n",
              "      fill: #1967D2;\n",
              "      height: 32px;\n",
              "      padding: 0 0 0 0;\n",
              "      width: 32px;\n",
              "    }\n",
              "\n",
              "    .colab-df-convert:hover {\n",
              "      background-color: #E2EBFA;\n",
              "      box-shadow: 0px 1px 2px rgba(60, 64, 67, 0.3), 0px 1px 3px 1px rgba(60, 64, 67, 0.15);\n",
              "      fill: #174EA6;\n",
              "    }\n",
              "\n",
              "    [theme=dark] .colab-df-convert {\n",
              "      background-color: #3B4455;\n",
              "      fill: #D2E3FC;\n",
              "    }\n",
              "\n",
              "    [theme=dark] .colab-df-convert:hover {\n",
              "      background-color: #434B5C;\n",
              "      box-shadow: 0px 1px 3px 1px rgba(0, 0, 0, 0.15);\n",
              "      filter: drop-shadow(0px 1px 2px rgba(0, 0, 0, 0.3));\n",
              "      fill: #FFFFFF;\n",
              "    }\n",
              "  </style>\n",
              "\n",
              "      <script>\n",
              "        const buttonEl =\n",
              "          document.querySelector('#df-b4570639-7f10-4860-8997-a46149a5c065 button.colab-df-convert');\n",
              "        buttonEl.style.display =\n",
              "          google.colab.kernel.accessAllowed ? 'block' : 'none';\n",
              "\n",
              "        async function convertToInteractive(key) {\n",
              "          const element = document.querySelector('#df-b4570639-7f10-4860-8997-a46149a5c065');\n",
              "          const dataTable =\n",
              "            await google.colab.kernel.invokeFunction('convertToInteractive',\n",
              "                                                     [key], {});\n",
              "          if (!dataTable) return;\n",
              "\n",
              "          const docLinkHtml = 'Like what you see? Visit the ' +\n",
              "            '<a target=\"_blank\" href=https://colab.research.google.com/notebooks/data_table.ipynb>data table notebook</a>'\n",
              "            + ' to learn more about interactive tables.';\n",
              "          element.innerHTML = '';\n",
              "          dataTable['output_type'] = 'display_data';\n",
              "          await google.colab.output.renderOutput(dataTable, element);\n",
              "          const docLink = document.createElement('div');\n",
              "          docLink.innerHTML = docLinkHtml;\n",
              "          element.appendChild(docLink);\n",
              "        }\n",
              "      </script>\n",
              "    </div>\n",
              "  </div>\n",
              "  "
            ]
          },
          "metadata": {},
          "execution_count": 18
        }
      ]
    },
    {
      "cell_type": "code",
      "source": [
        "!head vectors.txt"
      ],
      "metadata": {
        "colab": {
          "base_uri": "https://localhost:8080/"
        },
        "id": "wsY3Dn5gh09X",
        "outputId": "c8d694c7-4cde-410e-ba63-dbfafb5c283c"
      },
      "execution_count": null,
      "outputs": [
        {
          "output_type": "stream",
          "name": "stdout",
          "text": [
            "در -0.412019 1.060909 -3.593802 -0.157397 0.812889 0.126428 -0.725724 -0.329162 0.325403 0.872673 -0.837473 0.278397 -0.365639 -0.655698 -0.827516 0.156905 0.809757 -1.013390 -0.253768 -0.608033 -0.249300 -0.532197 0.238719 0.452560 0.332218 0.661669 -0.492189 0.785496 -0.306197 0.072709 -0.687019 1.991790 -4.434520 -0.265594 -1.056332 -0.399794 0.564090 0.773811 0.435756 -0.355662 -0.330475 0.816764 -0.336558 0.474747 0.804485 0.378767 -0.176665 0.333479 0.944152 0.887497\n",
            "و 0.456293 -0.208545 -3.529933 0.014478 0.707180 0.878298 -1.216457 0.097090 0.495823 0.561534 0.019928 0.720171 0.241582 -0.918204 -0.158589 -0.133603 0.970689 -1.287472 0.597238 0.345408 0.846030 -1.146036 0.649256 -0.322561 0.488728 0.772912 -1.682046 0.467492 0.816731 0.065067 0.922341 1.958097 -3.490340 -0.212678 0.527852 0.008413 0.433747 0.559847 -0.873472 0.260215 -1.218780 1.539735 -0.363949 0.135812 0.777170 0.663795 -0.379810 0.513880 1.041017 -0.256769\n",
            "<NUM> 1.762323 0.950546 -3.996964 0.231226 0.170716 0.668013 -0.140989 -0.890757 -1.342136 0.685933 -0.959762 0.349830 0.197850 -0.398090 -1.178730 0.284546 0.856970 0.548912 0.030195 0.529461 0.219433 -0.719737 -0.332069 -0.803991 -1.934356 -0.194773 -1.420706 -0.045196 -0.466327 1.156786 -0.487738 0.382915 -5.337240 -0.445684 0.604626 -1.232239 0.854381 0.635894 0.406087 0.158167 -0.818059 1.293802 -1.124893 1.029820 -0.028165 -0.158595 -0.744714 -0.113955 0.791171 0.899094\n",
            "به -0.216459 -0.160569 -3.808452 -0.450180 -0.151445 0.827518 0.343329 0.231152 0.701112 0.276297 -0.540553 1.287035 -0.229788 -0.907645 -1.169649 -0.197172 0.526966 -1.017145 0.135773 0.826004 0.019576 -1.173147 0.950951 -0.208811 -0.037724 0.840512 -0.008539 0.079171 -0.592716 -0.532471 -0.021215 1.975127 -3.132596 -1.019347 -0.453880 -0.295494 -0.100434 0.584425 -0.093882 -0.805288 -0.790804 0.762317 0.576581 0.083553 0.398702 -0.463310 0.375402 0.642059 1.276753 0.747280\n",
            "از -0.201867 1.022561 -3.760092 0.310402 1.185534 0.341075 0.167495 -0.408599 0.140300 -0.324804 -0.498745 0.429091 -0.377819 -0.284419 -0.651209 -0.079747 0.705720 -0.957800 0.564740 0.332251 -0.235576 -1.003017 0.929376 0.591855 1.206626 1.213828 -1.058710 -0.509001 0.564946 0.196659 -0.102986 1.470144 -3.539068 -1.088622 -0.547275 0.388485 0.898496 -0.113296 -1.200629 -0.395369 -1.156231 0.131721 0.567917 -0.016308 0.026328 -0.656810 -0.678522 1.265319 1.232913 0.347422\n",
            "که -0.263432 0.723966 -3.605662 -0.412936 0.437668 0.348640 -1.314222 0.113596 0.694524 0.560687 -1.027475 0.512732 0.209165 -0.580579 -0.409306 -0.223453 0.717521 -0.425588 -0.006839 -0.402825 -0.660741 0.033892 0.420030 0.636678 0.731303 0.890310 -0.623327 0.084243 -0.524122 0.258792 -0.410084 1.990157 -3.433894 -0.004879 -0.981035 -0.328578 -0.436177 0.742898 -0.693442 -0.671176 -0.860105 -0.287407 -0.224227 -0.804715 -0.337728 -0.978611 0.165787 1.049362 2.001416 0.069752\n",
            "است 0.213535 0.734710 -3.390686 0.337919 0.046413 0.620637 -1.444413 -0.291303 -0.252910 0.846472 -0.520051 0.711700 0.809028 -0.375652 -0.443332 1.181432 1.301585 -1.132728 0.583199 0.111567 -0.120225 0.124979 0.998727 0.521061 0.021500 0.840152 -1.105778 0.189345 -0.414724 0.689990 0.850135 1.862371 -3.649036 -0.744795 -1.459288 -0.082067 0.008561 0.387680 -0.644295 -0.845149 -0.272245 0.348647 -0.620613 -0.158263 -0.797022 -0.386909 -1.564596 1.112861 1.513822 0.161720\n",
            "این 0.303513 -0.212711 -4.218250 0.452476 1.293862 0.281595 0.118074 -0.565204 -0.116447 0.699279 -0.345189 0.534331 0.225632 -0.493821 -0.433343 -0.606602 1.182036 -1.417868 0.344552 -0.927158 -0.454611 -0.164437 0.570456 0.042829 0.883398 0.849334 -0.909957 0.554145 0.047992 0.291956 0.242956 1.655573 -3.558118 0.157063 0.033071 0.528333 0.952197 -0.021313 -0.740781 0.301882 -1.100905 -0.091025 0.500008 -0.602793 -0.271986 -0.146969 -0.228620 -0.190564 1.072796 0.234915\n",
            "را -0.451398 -0.715129 -3.773614 -0.437165 0.373652 0.705261 -0.336119 0.201435 1.494890 -0.130173 -0.679640 0.881540 -0.263943 -0.632806 -0.305393 -1.168827 0.340345 -0.054694 0.114334 0.009992 -0.001824 -1.415879 -0.015564 -0.051993 0.592404 1.015604 -0.731069 0.125791 0.498290 -0.132776 -0.369188 1.980005 -3.058907 -0.053798 -0.609226 0.462717 -0.194252 1.031678 -0.097853 -0.505030 -1.967816 0.846341 0.298030 0.258840 0.751005 -0.902052 0.436561 0.465711 1.324993 0.192613\n",
            "با 0.032781 0.303749 -3.513506 -0.212949 0.821689 1.402414 0.001266 -0.118329 0.334919 1.101036 -0.467912 0.207378 -0.385853 -1.110082 -0.425113 -0.564239 1.462895 -1.247793 0.180405 0.304251 -0.107905 -0.879074 -0.155774 0.295666 -0.769809 0.694360 -0.493160 -0.402398 -0.167336 -0.271798 -0.007764 1.237244 -3.242026 -0.259835 0.542289 -0.519715 0.191599 0.893376 -0.322657 0.220097 -1.613713 0.582952 -0.297925 -0.485112 0.492635 -1.104999 -0.049114 0.960065 1.164428 1.330834\n"
          ]
        }
      ]
    },
    {
      "cell_type": "code",
      "source": [
        ""
      ],
      "metadata": {
        "id": "I7WBBVSSh69t"
      },
      "execution_count": null,
      "outputs": []
    }
  ]
}