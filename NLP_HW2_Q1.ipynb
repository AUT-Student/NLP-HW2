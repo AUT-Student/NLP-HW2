{
  "nbformat": 4,
  "nbformat_minor": 0,
  "metadata": {
    "colab": {
      "name": "NLP_HW2_Q1.ipynb",
      "provenance": [],
      "collapsed_sections": [],
      "authorship_tag": "ABX9TyPQkTxlsnmmDiZwnRbHiYb8",
      "include_colab_link": true
    },
    "kernelspec": {
      "name": "python3",
      "display_name": "Python 3"
    },
    "language_info": {
      "name": "python"
    }
  },
  "cells": [
    {
      "cell_type": "markdown",
      "metadata": {
        "id": "view-in-github",
        "colab_type": "text"
      },
      "source": [
        "<a href=\"https://colab.research.google.com/github/AUT-Student/NLP-HW2/blob/main/NLP_HW2_Q1.ipynb\" target=\"_parent\"><img src=\"https://colab.research.google.com/assets/colab-badge.svg\" alt=\"Open In Colab\"/></a>"
      ]
    },
    {
      "cell_type": "markdown",
      "source": [
        "# Libraries"
      ],
      "metadata": {
        "id": "Z0qWBFwUjHJ_"
      }
    },
    {
      "cell_type": "code",
      "source": [
        "!pip install gensim --upgrade"
      ],
      "metadata": {
        "colab": {
          "base_uri": "https://localhost:8080/"
        },
        "id": "Oq7EZ2Pzypn7",
        "outputId": "40c70b1d-161a-4572-b0c4-c831183054d5"
      },
      "execution_count": 1,
      "outputs": [
        {
          "output_type": "stream",
          "name": "stdout",
          "text": [
            "Requirement already satisfied: gensim in /usr/local/lib/python3.7/dist-packages (4.1.2)\n",
            "Requirement already satisfied: smart-open>=1.8.1 in /usr/local/lib/python3.7/dist-packages (from gensim) (5.2.1)\n",
            "Requirement already satisfied: numpy>=1.17.0 in /usr/local/lib/python3.7/dist-packages (from gensim) (1.21.6)\n",
            "Requirement already satisfied: scipy>=0.18.1 in /usr/local/lib/python3.7/dist-packages (from gensim) (1.4.1)\n"
          ]
        }
      ]
    },
    {
      "cell_type": "code",
      "source": [
        "import pandas as pd\n",
        "import numpy as np\n",
        "from gensim.models import Word2Vec"
      ],
      "metadata": {
        "id": "oWlYo39qjOzb"
      },
      "execution_count": 2,
      "outputs": []
    },
    {
      "cell_type": "markdown",
      "source": [
        "# Dataset"
      ],
      "metadata": {
        "id": "3bO-_2cJjFU4"
      }
    },
    {
      "cell_type": "code",
      "execution_count": 3,
      "metadata": {
        "colab": {
          "base_uri": "https://localhost:8080/"
        },
        "id": "wKD9Acibihzx",
        "outputId": "e2094274-c59a-4542-d251-4bdd3fe6e3be"
      },
      "outputs": [
        {
          "output_type": "stream",
          "name": "stdout",
          "text": [
            "Downloading...\n",
            "From: https://drive.google.com/uc?id=1-86CqCHek-U1iH5nW30RfnFU0PYmdhKB\n",
            "To: /content/train.csv\n",
            "\r  0% 0.00/20.1M [00:00<?, ?B/s]\r 68% 13.6M/20.1M [00:00<00:00, 135MB/s]\r100% 20.1M/20.1M [00:00<00:00, 158MB/s]\n"
          ]
        }
      ],
      "source": [
        "!gdown 1-86CqCHek-U1iH5nW30RfnFU0PYmdhKB"
      ]
    },
    {
      "cell_type": "code",
      "source": [
        "!gdown 1YzRlYyye_KoEw7_q9NARiCwl3Cn-EH3J"
      ],
      "metadata": {
        "colab": {
          "base_uri": "https://localhost:8080/"
        },
        "id": "NgiTvMOeipDJ",
        "outputId": "f2052c04-90e5-40e6-eb2e-18bd22048c42"
      },
      "execution_count": 4,
      "outputs": [
        {
          "output_type": "stream",
          "name": "stdout",
          "text": [
            "Downloading...\n",
            "From: https://drive.google.com/uc?id=1YzRlYyye_KoEw7_q9NARiCwl3Cn-EH3J\n",
            "To: /content/test.csv\n",
            "\r  0% 0.00/2.03M [00:00<?, ?B/s]\r100% 2.03M/2.03M [00:00<00:00, 85.8MB/s]\n"
          ]
        }
      ]
    },
    {
      "cell_type": "code",
      "source": [
        "train_data = pd.read_csv(\"/content/train.csv\")\n",
        "test_data = pd.read_csv(\"/content/test.csv\")"
      ],
      "metadata": {
        "id": "nqVrovN8i9jR"
      },
      "execution_count": 5,
      "outputs": []
    },
    {
      "cell_type": "markdown",
      "source": [
        "# Word Representation"
      ],
      "metadata": {
        "id": "n_xzHZMMjwLy"
      }
    },
    {
      "cell_type": "code",
      "source": [
        "train_sentences = train_data[\"article\"].values"
      ],
      "metadata": {
        "id": "t04PiUKpmEDW"
      },
      "execution_count": 6,
      "outputs": []
    },
    {
      "cell_type": "code",
      "source": [
        "train_sentences = [sentence.split() for sentence in train_sentences]"
      ],
      "metadata": {
        "id": "5v5r2N-4wyHo"
      },
      "execution_count": 7,
      "outputs": []
    },
    {
      "cell_type": "code",
      "source": [
        "word2vec_model = Word2Vec(sentences=train_sentences, vector_size=300,\n",
        "                          sg=1, min_count=5, epochs=5)"
      ],
      "metadata": {
        "id": "jncIJOLJjxyj"
      },
      "execution_count": 11,
      "outputs": []
    },
    {
      "cell_type": "code",
      "source": [
        "word2vec_model.wv.similarity(\"افغانستان\", \"طالبان\")"
      ],
      "metadata": {
        "colab": {
          "base_uri": "https://localhost:8080/"
        },
        "id": "fxOJwhGFnnsV",
        "outputId": "2f1a4c4c-442d-41a6-f4e2-08924c352194"
      },
      "execution_count": 20,
      "outputs": [
        {
          "output_type": "execute_result",
          "data": {
            "text/plain": [
              "0.6838624"
            ]
          },
          "metadata": {},
          "execution_count": 20
        }
      ]
    },
    {
      "cell_type": "code",
      "source": [
        ""
      ],
      "metadata": {
        "id": "FtDbhvqpyvh9"
      },
      "execution_count": null,
      "outputs": []
    }
  ]
}