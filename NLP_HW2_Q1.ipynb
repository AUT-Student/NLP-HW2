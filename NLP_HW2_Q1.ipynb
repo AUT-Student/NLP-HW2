{
  "nbformat": 4,
  "nbformat_minor": 0,
  "metadata": {
    "colab": {
      "name": "NLP_HW2_Q1.ipynb",
      "provenance": [],
      "collapsed_sections": [],
      "authorship_tag": "ABX9TyOXsrQctXWToIXZ54SJ+q30",
      "include_colab_link": true
    },
    "kernelspec": {
      "name": "python3",
      "display_name": "Python 3"
    },
    "language_info": {
      "name": "python"
    }
  },
  "cells": [
    {
      "cell_type": "markdown",
      "metadata": {
        "id": "view-in-github",
        "colab_type": "text"
      },
      "source": [
        "<a href=\"https://colab.research.google.com/github/AUT-Student/NLP-HW2/blob/main/NLP_HW2_Q1.ipynb\" target=\"_parent\"><img src=\"https://colab.research.google.com/assets/colab-badge.svg\" alt=\"Open In Colab\"/></a>"
      ]
    },
    {
      "cell_type": "markdown",
      "source": [
        "# Libraries"
      ],
      "metadata": {
        "id": "Z0qWBFwUjHJ_"
      }
    },
    {
      "cell_type": "code",
      "source": [
        "import pandas as pd\n",
        "import numpy as np"
      ],
      "metadata": {
        "id": "oWlYo39qjOzb"
      },
      "execution_count": 7,
      "outputs": []
    },
    {
      "cell_type": "markdown",
      "source": [
        "# Dataset"
      ],
      "metadata": {
        "id": "3bO-_2cJjFU4"
      }
    },
    {
      "cell_type": "code",
      "execution_count": 2,
      "metadata": {
        "colab": {
          "base_uri": "https://localhost:8080/"
        },
        "id": "wKD9Acibihzx",
        "outputId": "16e0182f-2596-4769-b62c-ccb4af1ee092"
      },
      "outputs": [
        {
          "output_type": "stream",
          "name": "stdout",
          "text": [
            "Downloading...\n",
            "From: https://drive.google.com/uc?id=1-86CqCHek-U1iH5nW30RfnFU0PYmdhKB\n",
            "To: /content/train.csv\n",
            "\r  0% 0.00/20.1M [00:00<?, ?B/s]\r100% 20.1M/20.1M [00:00<00:00, 224MB/s]\n"
          ]
        }
      ],
      "source": [
        "!gdown 1-86CqCHek-U1iH5nW30RfnFU0PYmdhKB"
      ]
    },
    {
      "cell_type": "code",
      "source": [
        "!gdown 1YzRlYyye_KoEw7_q9NARiCwl3Cn-EH3J"
      ],
      "metadata": {
        "colab": {
          "base_uri": "https://localhost:8080/"
        },
        "id": "NgiTvMOeipDJ",
        "outputId": "9173eaea-e349-4bb2-c562-8e638cede248"
      },
      "execution_count": 4,
      "outputs": [
        {
          "output_type": "stream",
          "name": "stdout",
          "text": [
            "Downloading...\n",
            "From: https://drive.google.com/uc?id=1YzRlYyye_KoEw7_q9NARiCwl3Cn-EH3J\n",
            "To: /content/test.csv\n",
            "\r  0% 0.00/2.03M [00:00<?, ?B/s]\r100% 2.03M/2.03M [00:00<00:00, 148MB/s]\n"
          ]
        }
      ]
    },
    {
      "cell_type": "code",
      "source": [
        "train_data = pd.read_csv(\"/content/train.csv\")\n",
        "test_data = pd.read_csv(\"/content/test.csv\")"
      ],
      "metadata": {
        "id": "nqVrovN8i9jR"
      },
      "execution_count": 10,
      "outputs": []
    }
  ]
}