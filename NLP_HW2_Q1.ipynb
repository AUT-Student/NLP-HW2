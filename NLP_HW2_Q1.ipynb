{
  "nbformat": 4,
  "nbformat_minor": 0,
  "metadata": {
    "colab": {
      "name": "NLP_HW2_Q1.ipynb",
      "provenance": [],
      "collapsed_sections": [],
      "toc_visible": true,
      "authorship_tag": "ABX9TyOw5hg6gX0ZvwdxR9C5uzJj",
      "include_colab_link": true
    },
    "kernelspec": {
      "name": "python3",
      "display_name": "Python 3"
    },
    "language_info": {
      "name": "python"
    }
  },
  "cells": [
    {
      "cell_type": "markdown",
      "metadata": {
        "id": "view-in-github",
        "colab_type": "text"
      },
      "source": [
        "<a href=\"https://colab.research.google.com/github/AUT-Student/NLP-HW2/blob/main/NLP_HW2_Q1.ipynb\" target=\"_parent\"><img src=\"https://colab.research.google.com/assets/colab-badge.svg\" alt=\"Open In Colab\"/></a>"
      ]
    },
    {
      "cell_type": "markdown",
      "source": [
        "# Libraries"
      ],
      "metadata": {
        "id": "Z0qWBFwUjHJ_"
      }
    },
    {
      "cell_type": "code",
      "source": [
        "!pip install gensim --upgrade"
      ],
      "metadata": {
        "colab": {
          "base_uri": "https://localhost:8080/"
        },
        "id": "Oq7EZ2Pzypn7",
        "outputId": "9fb1cd51-8268-4398-fe3f-63ad900c5e36"
      },
      "execution_count": 1,
      "outputs": [
        {
          "output_type": "stream",
          "name": "stdout",
          "text": [
            "Requirement already satisfied: gensim in /usr/local/lib/python3.7/dist-packages (3.6.0)\n",
            "Collecting gensim\n",
            "  Downloading gensim-4.1.2-cp37-cp37m-manylinux_2_12_x86_64.manylinux2010_x86_64.whl (24.1 MB)\n",
            "\u001b[K     |████████████████████████████████| 24.1 MB 77.0 MB/s \n",
            "\u001b[?25hRequirement already satisfied: scipy>=0.18.1 in /usr/local/lib/python3.7/dist-packages (from gensim) (1.4.1)\n",
            "Requirement already satisfied: numpy>=1.17.0 in /usr/local/lib/python3.7/dist-packages (from gensim) (1.21.6)\n",
            "Requirement already satisfied: smart-open>=1.8.1 in /usr/local/lib/python3.7/dist-packages (from gensim) (5.2.1)\n",
            "Installing collected packages: gensim\n",
            "  Attempting uninstall: gensim\n",
            "    Found existing installation: gensim 3.6.0\n",
            "    Uninstalling gensim-3.6.0:\n",
            "      Successfully uninstalled gensim-3.6.0\n",
            "Successfully installed gensim-4.1.2\n"
          ]
        }
      ]
    },
    {
      "cell_type": "code",
      "source": [
        "import pandas as pd\n",
        "import numpy as np\n",
        "from gensim.models import Word2Vec, TfidfModel, Doc2Vec\n",
        "from gensim.models.doc2vec import TaggedDocument\n",
        "\n",
        "from gensim import corpora"
      ],
      "metadata": {
        "id": "oWlYo39qjOzb"
      },
      "execution_count": 41,
      "outputs": []
    },
    {
      "cell_type": "markdown",
      "source": [
        "# Dataset"
      ],
      "metadata": {
        "id": "3bO-_2cJjFU4"
      }
    },
    {
      "cell_type": "code",
      "execution_count": 3,
      "metadata": {
        "colab": {
          "base_uri": "https://localhost:8080/"
        },
        "id": "wKD9Acibihzx",
        "outputId": "39bf8167-8598-415f-a47e-7c978f7989f0"
      },
      "outputs": [
        {
          "output_type": "stream",
          "name": "stdout",
          "text": [
            "Downloading...\n",
            "From: https://drive.google.com/uc?id=1-86CqCHek-U1iH5nW30RfnFU0PYmdhKB\n",
            "To: /content/train.csv\n",
            "100% 20.1M/20.1M [00:00<00:00, 73.9MB/s]\n"
          ]
        }
      ],
      "source": [
        "!gdown 1-86CqCHek-U1iH5nW30RfnFU0PYmdhKB"
      ]
    },
    {
      "cell_type": "code",
      "source": [
        "!gdown 1YzRlYyye_KoEw7_q9NARiCwl3Cn-EH3J"
      ],
      "metadata": {
        "colab": {
          "base_uri": "https://localhost:8080/"
        },
        "id": "NgiTvMOeipDJ",
        "outputId": "7fddb286-78b8-4f62-9501-62034a555028"
      },
      "execution_count": 4,
      "outputs": [
        {
          "output_type": "stream",
          "name": "stdout",
          "text": [
            "Downloading...\n",
            "From: https://drive.google.com/uc?id=1YzRlYyye_KoEw7_q9NARiCwl3Cn-EH3J\n",
            "To: /content/test.csv\n",
            "\r  0% 0.00/2.03M [00:00<?, ?B/s]\r100% 2.03M/2.03M [00:00<00:00, 127MB/s]\n"
          ]
        }
      ]
    },
    {
      "cell_type": "code",
      "source": [
        "train_data = pd.read_csv(\"/content/train.csv\")\n",
        "test_data = pd.read_csv(\"/content/test.csv\")"
      ],
      "metadata": {
        "id": "nqVrovN8i9jR"
      },
      "execution_count": 5,
      "outputs": []
    },
    {
      "cell_type": "markdown",
      "source": [
        "# Word Representation"
      ],
      "metadata": {
        "id": "n_xzHZMMjwLy"
      }
    },
    {
      "cell_type": "code",
      "source": [
        "train_sentences = train_data[\"article\"].values"
      ],
      "metadata": {
        "id": "t04PiUKpmEDW"
      },
      "execution_count": 6,
      "outputs": []
    },
    {
      "cell_type": "code",
      "source": [
        "train_sentences = [sentence.split() for sentence in train_sentences]"
      ],
      "metadata": {
        "id": "5v5r2N-4wyHo"
      },
      "execution_count": 7,
      "outputs": []
    },
    {
      "cell_type": "code",
      "source": [
        "word2vec_model = Word2Vec(sentences=train_sentences, vector_size=300,\n",
        "                          sg=1, min_count=5, epochs=5)"
      ],
      "metadata": {
        "id": "jncIJOLJjxyj"
      },
      "execution_count": 8,
      "outputs": []
    },
    {
      "cell_type": "code",
      "source": [
        "word2vec_model.wv.similarity(\"افغانستان\", \"طالبان\")"
      ],
      "metadata": {
        "colab": {
          "base_uri": "https://localhost:8080/"
        },
        "id": "fxOJwhGFnnsV",
        "outputId": "2f1a4c4c-442d-41a6-f4e2-08924c352194"
      },
      "execution_count": 20,
      "outputs": [
        {
          "output_type": "execute_result",
          "data": {
            "text/plain": [
              "0.6838624"
            ]
          },
          "metadata": {},
          "execution_count": 20
        }
      ]
    },
    {
      "cell_type": "markdown",
      "source": [
        "# Document Representation"
      ],
      "metadata": {
        "id": "RjPm42wX0xXd"
      }
    },
    {
      "cell_type": "markdown",
      "source": [
        "## TF-IDF"
      ],
      "metadata": {
        "id": "WPsL_ffm01L-"
      }
    },
    {
      "cell_type": "code",
      "source": [
        "dictionary = corpora.Dictionary()"
      ],
      "metadata": {
        "id": "b9nPpKR64BMx"
      },
      "execution_count": 9,
      "outputs": []
    },
    {
      "cell_type": "code",
      "source": [
        "train_sentences_bow = [dictionary.doc2bow(sentence, allow_update=True) for sentence in train_sentences]"
      ],
      "metadata": {
        "id": "YiM8ovDY4NA1"
      },
      "execution_count": 10,
      "outputs": []
    },
    {
      "cell_type": "code",
      "source": [
        "tfidf_model = TfidfModel(train_sentences_bow)"
      ],
      "metadata": {
        "id": "FtDbhvqpyvh9"
      },
      "execution_count": 11,
      "outputs": []
    },
    {
      "cell_type": "markdown",
      "source": [
        "## Word2Vec & TF-IDF"
      ],
      "metadata": {
        "id": "iZxJMyoPmDLI"
      }
    },
    {
      "cell_type": "code",
      "source": [
        "class Word2VecTfIdf():\n",
        "  def __init__(self, word2vec_model, tfidf_model, dictionary):\n",
        "    self.word2vec_model = word2vec_model\n",
        "    self.tfidf_model = tfidf_model\n",
        "    self.dictionary = dictionary\n",
        "\n",
        "  def text_vector(self, text):\n",
        "    text_words = text.split()\n",
        "    text_bow = self.dictionary.doc2bow(text_words)\n",
        "    tfidf_output = tfidf_model[text_bow]\n",
        "\n",
        "    sum_weight = 0\n",
        "    sum_vector = np.zeros(self.word2vec_model.vector_size)\n",
        "\n",
        "    for id, weight in tfidf_output:\n",
        "      word = self.dictionary[id]\n",
        "      word_vector = self.word2vec_model.wv[word]\n",
        "\n",
        "      sum_vector += weight * word_vector\n",
        "      sum_weight += weight\n",
        "\n",
        "    avg_vector = (1/sum_weight) * sum_vector\n",
        "    return avg_vector"
      ],
      "metadata": {
        "id": "_7qKpx8W2n3D"
      },
      "execution_count": 23,
      "outputs": []
    },
    {
      "cell_type": "code",
      "source": [
        "word2vec_tfidf_model = Word2VecTfIdf(word2vec_model=word2vec_model,\n",
        "                                     tfidf_model=tfidf_model,\n",
        "                                     dictionary=dictionary)"
      ],
      "metadata": {
        "id": "OFazbdCRmOm9"
      },
      "execution_count": 24,
      "outputs": []
    },
    {
      "cell_type": "code",
      "source": [
        "word2vec_tfidf_model.text_vector(\"سلام بر تهران\")"
      ],
      "metadata": {
        "colab": {
          "base_uri": "https://localhost:8080/"
        },
        "id": "mwPdXdKgmhEs",
        "outputId": "a0dd402e-3693-49ba-e72d-5dfe752caa4c"
      },
      "execution_count": 25,
      "outputs": [
        {
          "output_type": "execute_result",
          "data": {
            "text/plain": [
              "array([ 0.07165736, -0.16287823,  0.18894456, -0.08975858,  0.1851432 ,\n",
              "       -0.06206486, -0.2238442 ,  0.15303521, -0.19987583,  0.03111687,\n",
              "       -0.12693394, -0.36220636, -0.30669092, -0.00508878, -0.18143595,\n",
              "       -0.10455818,  0.18004482, -0.16930764,  0.20204514, -0.01084684,\n",
              "       -0.13017184,  0.27933639, -0.13327998,  0.10063555,  0.14042927,\n",
              "        0.13684876, -0.10849461, -0.01686775,  0.05600927, -0.13302501,\n",
              "        0.14098935,  0.06829945,  0.1010519 ,  0.20734795, -0.15859542,\n",
              "       -0.06175493, -0.23780326, -0.1062687 , -0.20102134, -0.05054218,\n",
              "       -0.27875928, -0.26399201, -0.01806605,  0.13169912,  0.00502291,\n",
              "        0.25698807,  0.095621  ,  0.33086066, -0.12244385,  0.24503682,\n",
              "       -0.00777197, -0.05105306, -0.05346265,  0.00223424, -0.07765244,\n",
              "        0.19360891,  0.06265177, -0.03979613, -0.12131742, -0.1281465 ,\n",
              "       -0.20557971, -0.03306543, -0.10176163,  0.15945475,  0.05925942,\n",
              "       -0.04444083, -0.06707236,  0.19054741, -0.0592723 , -0.17586571,\n",
              "       -0.04729388,  0.09027474,  0.27624415, -0.05175219, -0.12405705,\n",
              "        0.26336228, -0.19441751, -0.13147418, -0.02261346,  0.28924569,\n",
              "       -0.14192958,  0.1343063 ,  0.12013345,  0.01462042,  0.10874092,\n",
              "        0.01528765,  0.01568185,  0.10242774,  0.11585371,  0.28163269,\n",
              "        0.14226531, -0.11769291,  0.13113737, -0.02222576,  0.10194139,\n",
              "        0.06861442,  0.09659372,  0.08045959, -0.06231836,  0.28538278,\n",
              "        0.08936662,  0.16917486,  0.27844998,  0.16111723,  0.39820937,\n",
              "        0.01773382,  0.0379399 ,  0.2061089 , -0.13052005, -0.14924897,\n",
              "        0.08527588, -0.27554027, -0.12383311,  0.03770582, -0.00195891,\n",
              "       -0.02287286,  0.04414168, -0.13375597, -0.12461823, -0.0426833 ,\n",
              "       -0.32781149,  0.00951562,  0.05241804,  0.06720813, -0.17282929,\n",
              "       -0.13605516, -0.07370165,  0.01320296, -0.06300811,  0.14025077,\n",
              "        0.21709316,  0.15375091, -0.02476795,  0.05082743,  0.11510143,\n",
              "        0.05731869,  0.1047028 , -0.11298714, -0.21450048, -0.10796499,\n",
              "       -0.06970465, -0.12577462,  0.18634541,  0.11618024,  0.19797898,\n",
              "       -0.31132642, -0.20104068,  0.15350143,  0.19679795,  0.09552661,\n",
              "       -0.08271516, -0.31311554, -0.26487823, -0.15093986,  0.14800717,\n",
              "        0.10080776,  0.1048528 , -0.12067963, -0.109065  ,  0.04293697,\n",
              "        0.32620284,  0.0588833 , -0.13251271,  0.07174711, -0.00332401,\n",
              "       -0.09595259, -0.04615515, -0.03825604,  0.07104891,  0.03297311,\n",
              "        0.18897716,  0.01165081,  0.23907097, -0.16545116, -0.10719828,\n",
              "        0.21439129,  0.31865672, -0.2057222 , -0.01911416, -0.10916841,\n",
              "        0.07562513,  0.05164729, -0.14780659, -0.16466272,  0.10414326,\n",
              "        0.32512371,  0.08298056,  0.03161055,  0.07540563, -0.11754346,\n",
              "       -0.17670037,  0.11967213, -0.14236106,  0.20850931,  0.21986654,\n",
              "       -0.03702639, -0.20463874, -0.35962806,  0.19842208,  0.29893773,\n",
              "       -0.1427744 ,  0.21534705,  0.02125705, -0.22257666, -0.1409769 ,\n",
              "       -0.13162868, -0.00774371, -0.19226807,  0.08858918, -0.1431616 ,\n",
              "       -0.14937865, -0.11746101, -0.06453446,  0.01088639, -0.01094552,\n",
              "       -0.17060173,  0.1625546 , -0.23493411, -0.05500335, -0.2158333 ,\n",
              "        0.13203053,  0.06279919, -0.09880821,  0.03472985, -0.01539598,\n",
              "       -0.11500245, -0.06762285, -0.0414016 , -0.33913234, -0.02107904,\n",
              "        0.05368573,  0.20329926, -0.15885307,  0.38612003, -0.01945094,\n",
              "       -0.17675866,  0.03972436, -0.14788702,  0.02479283, -0.1697743 ,\n",
              "        0.12107458, -0.32843531,  0.02132952, -0.18758336, -0.15096769,\n",
              "       -0.18147754, -0.19559634, -0.00826218,  0.05347241,  0.14606848,\n",
              "        0.02137792,  0.07733264,  0.0934506 , -0.06706826, -0.03009807,\n",
              "       -0.21289043,  0.41769352,  0.10834152, -0.09339325,  0.03420307,\n",
              "        0.12465473, -0.11504034, -0.19910407, -0.09375405, -0.08313271,\n",
              "        0.05692038, -0.05289375, -0.03079774, -0.0452557 , -0.20680321,\n",
              "       -0.1775955 , -0.01947164, -0.2300686 , -0.36964181, -0.02474029,\n",
              "       -0.09519494,  0.0301214 ,  0.0868354 , -0.2605324 ,  0.14455519,\n",
              "        0.0646038 ,  0.18378819,  0.22154342,  0.00685948, -0.26490713,\n",
              "        0.01050528, -0.16038552,  0.19179758, -0.11251612, -0.0138604 ,\n",
              "       -0.06358101,  0.1042692 ,  0.12584433,  0.09985935,  0.27137574,\n",
              "       -0.00339321, -0.00715112, -0.11690615,  0.27488065,  0.04484674])"
            ]
          },
          "metadata": {},
          "execution_count": 25
        }
      ]
    },
    {
      "cell_type": "markdown",
      "source": [
        "## Doc2Vec"
      ],
      "metadata": {
        "id": "LAySC2XQ03Ko"
      }
    },
    {
      "cell_type": "code",
      "source": [
        "train_sentences_tagged = [TaggedDocument(sentence, [i]) for i, sentence in enumerate(train_sentences)]"
      ],
      "metadata": {
        "id": "2f6gNZ5Nrotq"
      },
      "execution_count": 42,
      "outputs": []
    },
    {
      "cell_type": "code",
      "source": [
        "doc2vec_model = Doc2Vec(documents=train_sentences_tagged, epochs=5, vector_size=300)"
      ],
      "metadata": {
        "id": "TKtBDLAA06YV"
      },
      "execution_count": 53,
      "outputs": []
    },
    {
      "cell_type": "code",
      "source": [
        "doc2vec_model.infer_vector(\"سلام بر تهران\".split())"
      ],
      "metadata": {
        "colab": {
          "base_uri": "https://localhost:8080/"
        },
        "id": "6xsZRnTvsLxz",
        "outputId": "c5e0be80-2edb-4ccb-9652-8eb0e4a3d93d"
      },
      "execution_count": 54,
      "outputs": [
        {
          "output_type": "execute_result",
          "data": {
            "text/plain": [
              "array([-2.27902783e-03, -1.10739460e-02, -1.37836309e-02,  1.03726555e-02,\n",
              "       -9.29422397e-03,  1.22267578e-03, -3.13767381e-02, -1.26775140e-02,\n",
              "       -5.06480131e-03, -1.01340720e-02,  9.76915285e-03,  1.38384094e-02,\n",
              "        5.90620935e-03,  2.20404076e-03, -3.33695151e-02, -3.38838920e-02,\n",
              "       -2.58058752e-03,  2.04575248e-02, -2.24750768e-02, -9.80483927e-03,\n",
              "       -1.97115783e-02,  1.38844512e-02,  6.85863383e-03,  1.44319097e-03,\n",
              "       -8.63018818e-03, -1.31951254e-02, -8.21294452e-05, -1.99835263e-02,\n",
              "       -3.38190002e-03,  1.38525646e-02, -8.20886996e-03,  2.52831355e-02,\n",
              "        1.31483078e-02, -2.89827934e-03, -2.25492567e-02,  2.54936572e-02,\n",
              "       -6.71587419e-03, -4.43829112e-02,  3.61410901e-03, -1.06360379e-03,\n",
              "       -1.50249656e-02, -4.56468575e-02, -5.71803888e-03, -3.24600399e-03,\n",
              "       -8.10267311e-03, -5.57684712e-03, -1.24887107e-02, -1.16336476e-02,\n",
              "       -2.61588003e-02, -3.15562040e-02,  4.41327738e-03,  2.17832979e-02,\n",
              "       -2.41176784e-02, -1.58209186e-02, -4.59624268e-03, -3.41838636e-02,\n",
              "        7.04004755e-03,  1.50592979e-02, -3.35114338e-02,  9.98767465e-03,\n",
              "        1.13937687e-02,  2.45024264e-02, -7.96501618e-03, -1.10280262e-02,\n",
              "       -1.26880575e-02, -3.99096496e-03,  1.36959064e-03,  5.61338244e-03,\n",
              "       -2.01702770e-02, -2.02924944e-02, -1.85438450e-02, -1.18016284e-02,\n",
              "        7.07427447e-04, -1.92940868e-02,  1.61107704e-02, -1.88280214e-02,\n",
              "       -7.01588229e-04,  2.21659299e-02,  1.54947210e-02,  1.44462269e-02,\n",
              "        1.31642278e-02, -1.10801412e-02,  2.09923740e-02, -2.17350852e-02,\n",
              "       -1.57714598e-02,  1.97227243e-02,  5.25603583e-03, -4.97198291e-03,\n",
              "        1.25596402e-02, -1.17132012e-02, -4.04581334e-03, -1.85207110e-02,\n",
              "        2.23781969e-02,  1.47753386e-02, -7.80815445e-03,  1.78310797e-02,\n",
              "       -3.25980713e-03,  1.66111090e-03,  4.12869314e-03,  2.90589742e-02,\n",
              "       -1.86787955e-02, -2.29153745e-02, -9.45291296e-03, -3.15911672e-03,\n",
              "       -1.21715879e-02,  6.60880050e-03,  5.38923219e-03,  1.39201032e-02,\n",
              "        1.93863909e-03,  1.75861344e-02, -2.08343044e-02,  4.79960348e-03,\n",
              "        1.26323327e-02,  6.09621033e-03,  1.30293565e-02,  2.75787199e-03,\n",
              "       -1.14688324e-02, -9.89088230e-03,  7.76195340e-03,  4.91132354e-03,\n",
              "       -7.20149511e-03,  2.22888310e-02, -6.37601549e-03,  8.39224737e-03,\n",
              "       -2.67918725e-02,  2.39020935e-03, -1.69655066e-02,  5.86945079e-02,\n",
              "        2.42073983e-02, -4.61480953e-03,  2.44187154e-02, -4.69374245e-05,\n",
              "        9.80053097e-03,  3.22565367e-03, -2.00459864e-02,  1.01828459e-03,\n",
              "        6.01857575e-03,  1.29121412e-02,  1.96294463e-03,  2.02669650e-02,\n",
              "        1.03500648e-03, -8.38913023e-04, -2.94595882e-02, -2.71244962e-02,\n",
              "       -2.72970162e-02, -4.10076827e-02, -1.32943131e-02,  3.17674950e-02,\n",
              "        1.17913475e-02,  4.32958873e-03, -3.80930528e-02,  1.92331169e-02,\n",
              "       -3.71619267e-03,  1.18566314e-02, -1.84988638e-03,  3.51212732e-02,\n",
              "        8.86365585e-03, -2.17103697e-02,  3.96031654e-03,  5.11979684e-03,\n",
              "        1.58777758e-02, -3.23061110e-03,  1.04638683e-02,  9.42247827e-03,\n",
              "       -1.26354434e-02,  3.90112924e-04, -8.73269886e-03,  2.29966398e-02,\n",
              "       -1.76169313e-02, -9.33759753e-03,  4.85243089e-03, -7.02265603e-03,\n",
              "       -3.11506027e-03,  1.46639897e-02, -3.84796448e-02,  2.05652229e-02,\n",
              "       -4.03633603e-04,  6.79158419e-03, -1.94967687e-02,  4.04502228e-02,\n",
              "       -9.55324096e-04, -2.18555648e-02, -2.96227317e-02,  4.60604355e-02,\n",
              "        3.47312284e-03,  3.63713913e-02, -1.03020938e-02,  1.63730793e-02,\n",
              "        3.65831843e-03, -6.55803690e-03, -1.65544283e-02, -3.46894003e-02,\n",
              "        1.90092195e-02,  7.94447865e-03,  7.18076760e-03,  3.59567790e-03,\n",
              "       -2.18202509e-02, -1.75522566e-02, -3.01466994e-02,  3.71515080e-02,\n",
              "       -8.07229057e-03,  5.02441078e-03,  7.59636704e-03,  2.38102302e-02,\n",
              "        1.74211580e-02, -9.02724545e-03, -8.02933145e-03, -5.16714901e-03,\n",
              "        1.80872250e-02, -2.84564812e-02, -3.73539049e-03, -1.42546250e-02,\n",
              "        1.10796299e-02, -1.45446346e-03,  1.61551777e-02,  2.04015174e-03,\n",
              "       -2.62504201e-02,  9.92347207e-03, -6.11569453e-03,  1.13529228e-02,\n",
              "        9.81315970e-03, -2.76894728e-03,  6.67102588e-03,  2.56388057e-02,\n",
              "        2.29621362e-02,  7.55700702e-03, -4.04756516e-03, -1.49196871e-02,\n",
              "       -3.93138546e-03,  1.05354749e-02,  7.76037993e-03,  3.48008028e-03,\n",
              "       -1.94156740e-03, -1.45831974e-02,  8.29965435e-03, -2.68451273e-02,\n",
              "       -1.81569662e-02, -3.22323036e-03, -2.25682114e-03,  2.40891371e-02,\n",
              "        4.83370945e-03,  2.01970246e-02,  1.37173431e-02, -1.73955727e-02,\n",
              "        1.42217940e-02,  4.53051971e-03,  1.44497184e-02,  3.04922136e-03,\n",
              "        1.14561489e-03,  3.16734798e-03,  1.16767595e-02,  3.29482276e-03,\n",
              "       -4.60946816e-04,  1.93795916e-02,  4.23531281e-03,  1.37846090e-03,\n",
              "        1.16723124e-02,  3.71347950e-03,  1.07102990e-02, -2.96873017e-03,\n",
              "       -9.56186373e-03,  2.90375073e-02, -3.35131884e-02,  2.10411148e-03,\n",
              "        2.26303469e-02,  8.45443923e-03,  7.57380249e-03,  6.32275967e-03,\n",
              "        2.76903901e-02,  2.84736026e-02, -2.95823589e-02, -4.47023474e-03,\n",
              "       -2.29548775e-02, -2.38108318e-02,  1.10699534e-02,  5.28309029e-03,\n",
              "        4.87993807e-02, -5.64258080e-03,  7.46388128e-03, -1.04819695e-02,\n",
              "       -3.66125330e-02, -1.37825226e-02,  2.21269708e-02, -1.08926184e-02,\n",
              "       -2.82996334e-02, -1.16093177e-03, -1.25533408e-02, -2.78243683e-02,\n",
              "       -4.50349064e-04,  5.78906247e-03,  1.31883454e-02,  2.06491910e-02,\n",
              "        1.16241658e-02,  5.68826497e-03,  2.25614347e-02,  1.79566536e-02,\n",
              "       -1.56949728e-03, -2.50716470e-02,  1.36724990e-02,  1.67152425e-03],\n",
              "      dtype=float32)"
            ]
          },
          "metadata": {},
          "execution_count": 54
        }
      ]
    }
  ]
}